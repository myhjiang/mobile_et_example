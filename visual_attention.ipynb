{
 "cells": [
  {
   "cell_type": "markdown",
   "metadata": {},
   "source": [
    "# Fixation mapping and processing, exploring the distribution and sequence of visual attention\n",
    "\n",
    "- mapping fixations to real-world objects and screen contents\n",
    "- processing the mapped fixations (semantically)\n",
    "- exploring the distribution and sequence of visual attention using the mapped fixations with metrics and interactive plots"
   ]
  },
  {
   "cell_type": "markdown",
   "metadata": {},
   "source": [
    "## map fixations to real-world objects using command line tool:\n",
    "\n",
    "Using file: data/export_fixation.tsv\n",
    "\n",
    "Example command: `! python fixation_mapping.py C:/Users/admin/detectron2 F:/videos/recording30_full.mp4 F:/exports/export_fixation.tsv F:/exports/data `\n",
    "\n",
    "Result file: data/mapped_fixation.tsv"
   ]
  },
  {
   "cell_type": "markdown",
   "metadata": {},
   "source": [
    "## process the mapped fixation file: group the target objects to object groups\n",
    "\n",
    "The objects were classified into four categories: cell phone, building, surroundings, and others.\n",
    "\n",
    "Using file: data/mapped_fixation.tsv  \n",
    "Result file: data/replaced_mapped_fixation.tsv\n"
   ]
  },
  {
   "cell_type": "code",
   "execution_count": 1,
   "metadata": {},
   "outputs": [],
   "source": [
    "import pandas as pd\n",
    "df = pd.read_csv('data/mapped_fixation.tsv', sep='\\t')\n",
    "\n",
    "# categories manually defined, for this case specifically\n",
    "allowed_list = []\n",
    "building_class = ['window-blind', 'window', 'ceiling', 'building', 'wall',\n",
    "                  'house', 'wall-brick', 'wall-stone', 'wall-wood']\n",
    "surrounding_class = ['tree', 'fence', 'sky', 'pavement', 'grass',\n",
    "                     'dirt', 'rock', 'road', 'river', 'sand',\n",
    "                     'person', 'bicycle', 'car', 'motorcycle', 'bus',\n",
    "                     'train', 'truck', 'traffic light', 'stop sign', 'parking meter']\n",
    "allowed_list.extend(building_class)\n",
    "allowed_list.extend(surrounding_class)\n",
    "allowed_list.append('cell phone')\n",
    "# replace things, anything out out the \"alloed list\" is mapped to \"others\"\n",
    "df.at[~df[\"target\"].isin(allowed_list), \"target\"] = \"others\"\n",
    "df.replace(building_class, 'building', inplace=True)\n",
    "df.replace(surrounding_class, 'surroundings', inplace=True)\n",
    "# write to new file\n",
    "df.to_csv('data/replaced_mapped_fixation.tsv', sep='\\t', index=False)"
   ]
  },
  {
   "cell_type": "markdown",
   "metadata": {},
   "source": [
    "## add screen contents to the mapped fixations using the command line tool:\n",
    "Using file: data/replaced_mapped_fixations.tsv  \n",
    "\n",
    "Example command: `! python screen_recording_match.py \"F:/videos/image_pool\" \"F:/videos/screen.mp4\" \"F:/exports/mapped/replaced_mapped_fixations.tsv\" 201839`\n",
    "\n",
    "Result file: data/screen_replaced_mapped_fixation.tsv"
   ]
  },
  {
   "cell_type": "markdown",
   "metadata": {},
   "source": [
    "## process the mapped fixation file: group screen contents, and integrate them with the objects\n",
    "Using file: data/screen_replaced_mapped_fixation.tsv  \n",
    "Result file: data/grouped_screen_replaced_mapped_fixation.tsv"
   ]
  },
  {
   "cell_type": "code",
   "execution_count": 2,
   "metadata": {},
   "outputs": [
    {
     "output_type": "execute_result",
     "data": {
      "text/plain": "   Recording timestamp  Eye movement type index  Gaze event duration  \\\n0             119832.0                      105                620.0   \n1             120222.0                      106                400.0   \n2             120842.0                      107                 80.0   \n3             121262.0                      108                440.0   \n4             123471.0                      109               3799.0   \n\n   Fixation point X  Fixation point Y        target   phone_x   phone_y  \\\n0            1007.0             509.0  surroundings       NaN       NaN   \n1             857.0             356.0    cell phone  0.974220  0.210277   \n2            1678.0              11.0  surroundings       NaN       NaN   \n3             811.0             514.0    cell phone  0.573007  0.161089   \n4             919.0             312.0    cell phone  0.888017  0.129890   \n\n     best_match  screentime  \n0           NaN           0  \n1  map_ar_2.jpg          88  \n2           NaN           0  \n3  map_ar_2.jpg        1128  \n4  map_ar_2.jpg        3337  ",
      "text/html": "<div>\n<style scoped>\n    .dataframe tbody tr th:only-of-type {\n        vertical-align: middle;\n    }\n\n    .dataframe tbody tr th {\n        vertical-align: top;\n    }\n\n    .dataframe thead th {\n        text-align: right;\n    }\n</style>\n<table border=\"1\" class=\"dataframe\">\n  <thead>\n    <tr style=\"text-align: right;\">\n      <th></th>\n      <th>Recording timestamp</th>\n      <th>Eye movement type index</th>\n      <th>Gaze event duration</th>\n      <th>Fixation point X</th>\n      <th>Fixation point Y</th>\n      <th>target</th>\n      <th>phone_x</th>\n      <th>phone_y</th>\n      <th>best_match</th>\n      <th>screentime</th>\n    </tr>\n  </thead>\n  <tbody>\n    <tr>\n      <th>0</th>\n      <td>119832.0</td>\n      <td>105</td>\n      <td>620.0</td>\n      <td>1007.0</td>\n      <td>509.0</td>\n      <td>surroundings</td>\n      <td>NaN</td>\n      <td>NaN</td>\n      <td>NaN</td>\n      <td>0</td>\n    </tr>\n    <tr>\n      <th>1</th>\n      <td>120222.0</td>\n      <td>106</td>\n      <td>400.0</td>\n      <td>857.0</td>\n      <td>356.0</td>\n      <td>cell phone</td>\n      <td>0.974220</td>\n      <td>0.210277</td>\n      <td>map_ar_2.jpg</td>\n      <td>88</td>\n    </tr>\n    <tr>\n      <th>2</th>\n      <td>120842.0</td>\n      <td>107</td>\n      <td>80.0</td>\n      <td>1678.0</td>\n      <td>11.0</td>\n      <td>surroundings</td>\n      <td>NaN</td>\n      <td>NaN</td>\n      <td>NaN</td>\n      <td>0</td>\n    </tr>\n    <tr>\n      <th>3</th>\n      <td>121262.0</td>\n      <td>108</td>\n      <td>440.0</td>\n      <td>811.0</td>\n      <td>514.0</td>\n      <td>cell phone</td>\n      <td>0.573007</td>\n      <td>0.161089</td>\n      <td>map_ar_2.jpg</td>\n      <td>1128</td>\n    </tr>\n    <tr>\n      <th>4</th>\n      <td>123471.0</td>\n      <td>109</td>\n      <td>3799.0</td>\n      <td>919.0</td>\n      <td>312.0</td>\n      <td>cell phone</td>\n      <td>0.888017</td>\n      <td>0.129890</td>\n      <td>map_ar_2.jpg</td>\n      <td>3337</td>\n    </tr>\n  </tbody>\n</table>\n</div>"
     },
     "metadata": {},
     "execution_count": 2
    }
   ],
   "source": [
    "df = pd.read_csv('data/screen_replaced_mapped_fixation.tsv', sep='\\t')\n",
    "df.head()"
   ]
  },
  {
   "cell_type": "code",
   "execution_count": 3,
   "metadata": {},
   "outputs": [
    {
     "output_type": "execute_result",
     "data": {
      "text/plain": "array(['surroundings', 'map_ar_2.jpg', 'building', 'info_menzis.jpg',\n       'view_note.jpg', 'others', 'sat_image.jpg', 'sat_image_2.jpg',\n       'take_note.jpg', 'map_ar.jpg', 'old_map.jpg', 'old_map_2.jpg',\n       'info_tunnel.jpg', 'photo_itc.jpg', 'info_itc.jpg'], dtype=object)"
     },
     "metadata": {},
     "execution_count": 3
    }
   ],
   "source": [
    "# make column new_target, replace \"cell phone\" with the screen content identified in best_match\n",
    "df['new_target'] = df['target']\n",
    "df.loc[(df['target'] == 'cell phone'),'new_target'] = df['best_match']\n",
    "df.new_target.unique()"
   ]
  },
  {
   "cell_type": "code",
   "execution_count": 4,
   "metadata": {},
   "outputs": [
    {
     "output_type": "execute_result",
     "data": {
      "text/plain": "array(['surroundings', 'map_ar', 'building', 'info', 'view_note',\n       'others', 'take_note', 'old_map'], dtype=object)"
     },
     "metadata": {},
     "execution_count": 4
    }
   ],
   "source": [
    "# process / group / rename the screen contents\n",
    "import re\n",
    "df.new_target = df.new_target.apply(lambda x: 'app_' + x.split('.')[0] if x.split('.')[-1]=='jpg' else x)\n",
    "df.new_target = df.new_target.apply(lambda x: x.split('_', 1)[-1])\n",
    "df.new_target = df.new_target.apply(\n",
    "        lambda x: x.split('_')[0] if x.startswith('info') else x)\n",
    "df.new_target = df.new_target.apply(\n",
    "        lambda x: x[:-2] if re.search(r'\\d+$', x) is not None else x)\n",
    "df.new_target.replace(['photo_itc', 'sat_image'], 'info', inplace=True)\n",
    "df.to_csv('data/grouped_screen_replaced_mapped_fixation.tsv', sep='\\t', index=False)\n",
    "df.new_target.unique()"
   ]
  },
  {
   "cell_type": "markdown",
   "metadata": {},
   "source": [
    "## visualize the distribution and sequence of visual attention:\n",
    "Distribution metrics: total count, total duration, mean duration  \n",
    "Sequence metrics: switch frequence; Sequence plot (timeline)  \n",
    "\n",
    "Using file: data/grouped_screen_replaced_mapped_fixation.tsv"
   ]
  },
  {
   "cell_type": "code",
   "execution_count": 5,
   "metadata": {},
   "outputs": [
    {
     "output_type": "execute_result",
     "data": {
      "text/plain": "   Recording timestamp  Eye movement type index  Gaze event duration  \\\n0             119832.0                      105                620.0   \n1             120222.0                      106                400.0   \n2             120842.0                      107                 80.0   \n3             121262.0                      108                440.0   \n4             123471.0                      109               3799.0   \n\n   Fixation point X  Fixation point Y        target   phone_x   phone_y  \\\n0            1007.0             509.0  surroundings       NaN       NaN   \n1             857.0             356.0    cell phone  0.974220  0.210277   \n2            1678.0              11.0  surroundings       NaN       NaN   \n3             811.0             514.0    cell phone  0.573007  0.161089   \n4             919.0             312.0    cell phone  0.888017  0.129890   \n\n     best_match  screentime    new_target  \n0           NaN           0  surroundings  \n1  map_ar_2.jpg          88        map_ar  \n2           NaN           0  surroundings  \n3  map_ar_2.jpg        1128        map_ar  \n4  map_ar_2.jpg        3337        map_ar  ",
      "text/html": "<div>\n<style scoped>\n    .dataframe tbody tr th:only-of-type {\n        vertical-align: middle;\n    }\n\n    .dataframe tbody tr th {\n        vertical-align: top;\n    }\n\n    .dataframe thead th {\n        text-align: right;\n    }\n</style>\n<table border=\"1\" class=\"dataframe\">\n  <thead>\n    <tr style=\"text-align: right;\">\n      <th></th>\n      <th>Recording timestamp</th>\n      <th>Eye movement type index</th>\n      <th>Gaze event duration</th>\n      <th>Fixation point X</th>\n      <th>Fixation point Y</th>\n      <th>target</th>\n      <th>phone_x</th>\n      <th>phone_y</th>\n      <th>best_match</th>\n      <th>screentime</th>\n      <th>new_target</th>\n    </tr>\n  </thead>\n  <tbody>\n    <tr>\n      <th>0</th>\n      <td>119832.0</td>\n      <td>105</td>\n      <td>620.0</td>\n      <td>1007.0</td>\n      <td>509.0</td>\n      <td>surroundings</td>\n      <td>NaN</td>\n      <td>NaN</td>\n      <td>NaN</td>\n      <td>0</td>\n      <td>surroundings</td>\n    </tr>\n    <tr>\n      <th>1</th>\n      <td>120222.0</td>\n      <td>106</td>\n      <td>400.0</td>\n      <td>857.0</td>\n      <td>356.0</td>\n      <td>cell phone</td>\n      <td>0.974220</td>\n      <td>0.210277</td>\n      <td>map_ar_2.jpg</td>\n      <td>88</td>\n      <td>map_ar</td>\n    </tr>\n    <tr>\n      <th>2</th>\n      <td>120842.0</td>\n      <td>107</td>\n      <td>80.0</td>\n      <td>1678.0</td>\n      <td>11.0</td>\n      <td>surroundings</td>\n      <td>NaN</td>\n      <td>NaN</td>\n      <td>NaN</td>\n      <td>0</td>\n      <td>surroundings</td>\n    </tr>\n    <tr>\n      <th>3</th>\n      <td>121262.0</td>\n      <td>108</td>\n      <td>440.0</td>\n      <td>811.0</td>\n      <td>514.0</td>\n      <td>cell phone</td>\n      <td>0.573007</td>\n      <td>0.161089</td>\n      <td>map_ar_2.jpg</td>\n      <td>1128</td>\n      <td>map_ar</td>\n    </tr>\n    <tr>\n      <th>4</th>\n      <td>123471.0</td>\n      <td>109</td>\n      <td>3799.0</td>\n      <td>919.0</td>\n      <td>312.0</td>\n      <td>cell phone</td>\n      <td>0.888017</td>\n      <td>0.129890</td>\n      <td>map_ar_2.jpg</td>\n      <td>3337</td>\n      <td>map_ar</td>\n    </tr>\n  </tbody>\n</table>\n</div>"
     },
     "metadata": {},
     "execution_count": 5
    }
   ],
   "source": [
    "import plotly.graph_objects as go \n",
    "df = pd.read_csv('data/grouped_screen_replaced_mapped_fixation.tsv', sep='\\t')\n",
    "df.head()"
   ]
  },
  {
   "cell_type": "code",
   "execution_count": 6,
   "metadata": {},
   "outputs": [],
   "source": [
    "# plotting colors\n",
    "color_dict = {'surroundings': 'rgb(204, 235, 197)',\n",
    "              'others': 'rgb(203, 203, 203)',\n",
    "              'building': \"rgb(128, 177, 211)\",\n",
    "              'cell phone': 'rgb(253, 180, 98)'}\n",
    "switch_color_dict = {'cell phone - building': 'rgb(253, 180, 98)',\n",
    "        'cell phone - other objects': 'rgb(204, 235, 197)'}\n"
   ]
  },
  {
   "cell_type": "markdown",
   "metadata": {},
   "source": [
    "### pie chart of total fixation duration, and bar chart for mean fixation duration\n",
    "an example to compare the attention distribution between environment objects and phone. Same comparison can be done for different screen contents\n"
   ]
  },
  {
   "cell_type": "code",
   "execution_count": 7,
   "metadata": {},
   "outputs": [],
   "source": [
    "# aggregate count and duration \n",
    "target_aggregate = df.groupby('target').agg(\n",
    "        {'Recording timestamp': 'count', 'Gaze event duration': ['sum', 'mean']}).reset_index()\n",
    "target_aggregate.columns = target_aggregate.columns.droplevel()\n",
    "target_aggregate.columns = ['target', 'total count', 'total duration', 'mean duration']"
   ]
  },
  {
   "cell_type": "code",
   "execution_count": 8,
   "metadata": {},
   "outputs": [],
   "source": [
    "import plotly.graph_objects as go \n",
    "import plotly.express as px\n",
    "import bisect\n",
    "import numpy as np "
   ]
  },
  {
   "cell_type": "code",
   "execution_count": 9,
   "metadata": {},
   "outputs": [
    {
     "output_type": "display_data",
     "data": {
      "application/vnd.plotly.v1+json": {
       "config": {
        "plotlyServerURL": "https://plot.ly"
       },
       "data": [
        {
         "labels": [
          "building",
          "cell phone",
          "others",
          "surroundings"
         ],
         "marker": {
          "colors": [
           "rgb(128, 177, 211)",
           "rgb(253, 180, 98)",
           "rgb(203, 203, 203)",
           "rgb(204, 235, 197)"
          ]
         },
         "textinfo": "value+percent",
         "type": "pie",
         "values": [
          15,
          452,
          6,
          49
         ]
        }
       ],
       "layout": {
        "legend": {
         "orientation": "h"
        },
        "template": {
         "data": {
          "bar": [
           {
            "error_x": {
             "color": "#2a3f5f"
            },
            "error_y": {
             "color": "#2a3f5f"
            },
            "marker": {
             "line": {
              "color": "#E5ECF6",
              "width": 0.5
             }
            },
            "type": "bar"
           }
          ],
          "barpolar": [
           {
            "marker": {
             "line": {
              "color": "#E5ECF6",
              "width": 0.5
             }
            },
            "type": "barpolar"
           }
          ],
          "carpet": [
           {
            "aaxis": {
             "endlinecolor": "#2a3f5f",
             "gridcolor": "white",
             "linecolor": "white",
             "minorgridcolor": "white",
             "startlinecolor": "#2a3f5f"
            },
            "baxis": {
             "endlinecolor": "#2a3f5f",
             "gridcolor": "white",
             "linecolor": "white",
             "minorgridcolor": "white",
             "startlinecolor": "#2a3f5f"
            },
            "type": "carpet"
           }
          ],
          "choropleth": [
           {
            "colorbar": {
             "outlinewidth": 0,
             "ticks": ""
            },
            "type": "choropleth"
           }
          ],
          "contour": [
           {
            "colorbar": {
             "outlinewidth": 0,
             "ticks": ""
            },
            "colorscale": [
             [
              0,
              "#0d0887"
             ],
             [
              0.1111111111111111,
              "#46039f"
             ],
             [
              0.2222222222222222,
              "#7201a8"
             ],
             [
              0.3333333333333333,
              "#9c179e"
             ],
             [
              0.4444444444444444,
              "#bd3786"
             ],
             [
              0.5555555555555556,
              "#d8576b"
             ],
             [
              0.6666666666666666,
              "#ed7953"
             ],
             [
              0.7777777777777778,
              "#fb9f3a"
             ],
             [
              0.8888888888888888,
              "#fdca26"
             ],
             [
              1,
              "#f0f921"
             ]
            ],
            "type": "contour"
           }
          ],
          "contourcarpet": [
           {
            "colorbar": {
             "outlinewidth": 0,
             "ticks": ""
            },
            "type": "contourcarpet"
           }
          ],
          "heatmap": [
           {
            "colorbar": {
             "outlinewidth": 0,
             "ticks": ""
            },
            "colorscale": [
             [
              0,
              "#0d0887"
             ],
             [
              0.1111111111111111,
              "#46039f"
             ],
             [
              0.2222222222222222,
              "#7201a8"
             ],
             [
              0.3333333333333333,
              "#9c179e"
             ],
             [
              0.4444444444444444,
              "#bd3786"
             ],
             [
              0.5555555555555556,
              "#d8576b"
             ],
             [
              0.6666666666666666,
              "#ed7953"
             ],
             [
              0.7777777777777778,
              "#fb9f3a"
             ],
             [
              0.8888888888888888,
              "#fdca26"
             ],
             [
              1,
              "#f0f921"
             ]
            ],
            "type": "heatmap"
           }
          ],
          "heatmapgl": [
           {
            "colorbar": {
             "outlinewidth": 0,
             "ticks": ""
            },
            "colorscale": [
             [
              0,
              "#0d0887"
             ],
             [
              0.1111111111111111,
              "#46039f"
             ],
             [
              0.2222222222222222,
              "#7201a8"
             ],
             [
              0.3333333333333333,
              "#9c179e"
             ],
             [
              0.4444444444444444,
              "#bd3786"
             ],
             [
              0.5555555555555556,
              "#d8576b"
             ],
             [
              0.6666666666666666,
              "#ed7953"
             ],
             [
              0.7777777777777778,
              "#fb9f3a"
             ],
             [
              0.8888888888888888,
              "#fdca26"
             ],
             [
              1,
              "#f0f921"
             ]
            ],
            "type": "heatmapgl"
           }
          ],
          "histogram": [
           {
            "marker": {
             "colorbar": {
              "outlinewidth": 0,
              "ticks": ""
             }
            },
            "type": "histogram"
           }
          ],
          "histogram2d": [
           {
            "colorbar": {
             "outlinewidth": 0,
             "ticks": ""
            },
            "colorscale": [
             [
              0,
              "#0d0887"
             ],
             [
              0.1111111111111111,
              "#46039f"
             ],
             [
              0.2222222222222222,
              "#7201a8"
             ],
             [
              0.3333333333333333,
              "#9c179e"
             ],
             [
              0.4444444444444444,
              "#bd3786"
             ],
             [
              0.5555555555555556,
              "#d8576b"
             ],
             [
              0.6666666666666666,
              "#ed7953"
             ],
             [
              0.7777777777777778,
              "#fb9f3a"
             ],
             [
              0.8888888888888888,
              "#fdca26"
             ],
             [
              1,
              "#f0f921"
             ]
            ],
            "type": "histogram2d"
           }
          ],
          "histogram2dcontour": [
           {
            "colorbar": {
             "outlinewidth": 0,
             "ticks": ""
            },
            "colorscale": [
             [
              0,
              "#0d0887"
             ],
             [
              0.1111111111111111,
              "#46039f"
             ],
             [
              0.2222222222222222,
              "#7201a8"
             ],
             [
              0.3333333333333333,
              "#9c179e"
             ],
             [
              0.4444444444444444,
              "#bd3786"
             ],
             [
              0.5555555555555556,
              "#d8576b"
             ],
             [
              0.6666666666666666,
              "#ed7953"
             ],
             [
              0.7777777777777778,
              "#fb9f3a"
             ],
             [
              0.8888888888888888,
              "#fdca26"
             ],
             [
              1,
              "#f0f921"
             ]
            ],
            "type": "histogram2dcontour"
           }
          ],
          "mesh3d": [
           {
            "colorbar": {
             "outlinewidth": 0,
             "ticks": ""
            },
            "type": "mesh3d"
           }
          ],
          "parcoords": [
           {
            "line": {
             "colorbar": {
              "outlinewidth": 0,
              "ticks": ""
             }
            },
            "type": "parcoords"
           }
          ],
          "pie": [
           {
            "automargin": true,
            "type": "pie"
           }
          ],
          "scatter": [
           {
            "marker": {
             "colorbar": {
              "outlinewidth": 0,
              "ticks": ""
             }
            },
            "type": "scatter"
           }
          ],
          "scatter3d": [
           {
            "line": {
             "colorbar": {
              "outlinewidth": 0,
              "ticks": ""
             }
            },
            "marker": {
             "colorbar": {
              "outlinewidth": 0,
              "ticks": ""
             }
            },
            "type": "scatter3d"
           }
          ],
          "scattercarpet": [
           {
            "marker": {
             "colorbar": {
              "outlinewidth": 0,
              "ticks": ""
             }
            },
            "type": "scattercarpet"
           }
          ],
          "scattergeo": [
           {
            "marker": {
             "colorbar": {
              "outlinewidth": 0,
              "ticks": ""
             }
            },
            "type": "scattergeo"
           }
          ],
          "scattergl": [
           {
            "marker": {
             "colorbar": {
              "outlinewidth": 0,
              "ticks": ""
             }
            },
            "type": "scattergl"
           }
          ],
          "scattermapbox": [
           {
            "marker": {
             "colorbar": {
              "outlinewidth": 0,
              "ticks": ""
             }
            },
            "type": "scattermapbox"
           }
          ],
          "scatterpolar": [
           {
            "marker": {
             "colorbar": {
              "outlinewidth": 0,
              "ticks": ""
             }
            },
            "type": "scatterpolar"
           }
          ],
          "scatterpolargl": [
           {
            "marker": {
             "colorbar": {
              "outlinewidth": 0,
              "ticks": ""
             }
            },
            "type": "scatterpolargl"
           }
          ],
          "scatterternary": [
           {
            "marker": {
             "colorbar": {
              "outlinewidth": 0,
              "ticks": ""
             }
            },
            "type": "scatterternary"
           }
          ],
          "surface": [
           {
            "colorbar": {
             "outlinewidth": 0,
             "ticks": ""
            },
            "colorscale": [
             [
              0,
              "#0d0887"
             ],
             [
              0.1111111111111111,
              "#46039f"
             ],
             [
              0.2222222222222222,
              "#7201a8"
             ],
             [
              0.3333333333333333,
              "#9c179e"
             ],
             [
              0.4444444444444444,
              "#bd3786"
             ],
             [
              0.5555555555555556,
              "#d8576b"
             ],
             [
              0.6666666666666666,
              "#ed7953"
             ],
             [
              0.7777777777777778,
              "#fb9f3a"
             ],
             [
              0.8888888888888888,
              "#fdca26"
             ],
             [
              1,
              "#f0f921"
             ]
            ],
            "type": "surface"
           }
          ],
          "table": [
           {
            "cells": {
             "fill": {
              "color": "#EBF0F8"
             },
             "line": {
              "color": "white"
             }
            },
            "header": {
             "fill": {
              "color": "#C8D4E3"
             },
             "line": {
              "color": "white"
             }
            },
            "type": "table"
           }
          ]
         },
         "layout": {
          "annotationdefaults": {
           "arrowcolor": "#2a3f5f",
           "arrowhead": 0,
           "arrowwidth": 1
          },
          "coloraxis": {
           "colorbar": {
            "outlinewidth": 0,
            "ticks": ""
           }
          },
          "colorscale": {
           "diverging": [
            [
             0,
             "#8e0152"
            ],
            [
             0.1,
             "#c51b7d"
            ],
            [
             0.2,
             "#de77ae"
            ],
            [
             0.3,
             "#f1b6da"
            ],
            [
             0.4,
             "#fde0ef"
            ],
            [
             0.5,
             "#f7f7f7"
            ],
            [
             0.6,
             "#e6f5d0"
            ],
            [
             0.7,
             "#b8e186"
            ],
            [
             0.8,
             "#7fbc41"
            ],
            [
             0.9,
             "#4d9221"
            ],
            [
             1,
             "#276419"
            ]
           ],
           "sequential": [
            [
             0,
             "#0d0887"
            ],
            [
             0.1111111111111111,
             "#46039f"
            ],
            [
             0.2222222222222222,
             "#7201a8"
            ],
            [
             0.3333333333333333,
             "#9c179e"
            ],
            [
             0.4444444444444444,
             "#bd3786"
            ],
            [
             0.5555555555555556,
             "#d8576b"
            ],
            [
             0.6666666666666666,
             "#ed7953"
            ],
            [
             0.7777777777777778,
             "#fb9f3a"
            ],
            [
             0.8888888888888888,
             "#fdca26"
            ],
            [
             1,
             "#f0f921"
            ]
           ],
           "sequentialminus": [
            [
             0,
             "#0d0887"
            ],
            [
             0.1111111111111111,
             "#46039f"
            ],
            [
             0.2222222222222222,
             "#7201a8"
            ],
            [
             0.3333333333333333,
             "#9c179e"
            ],
            [
             0.4444444444444444,
             "#bd3786"
            ],
            [
             0.5555555555555556,
             "#d8576b"
            ],
            [
             0.6666666666666666,
             "#ed7953"
            ],
            [
             0.7777777777777778,
             "#fb9f3a"
            ],
            [
             0.8888888888888888,
             "#fdca26"
            ],
            [
             1,
             "#f0f921"
            ]
           ]
          },
          "colorway": [
           "#636efa",
           "#EF553B",
           "#00cc96",
           "#ab63fa",
           "#FFA15A",
           "#19d3f3",
           "#FF6692",
           "#B6E880",
           "#FF97FF",
           "#FECB52"
          ],
          "font": {
           "color": "#2a3f5f"
          },
          "geo": {
           "bgcolor": "white",
           "lakecolor": "white",
           "landcolor": "#E5ECF6",
           "showlakes": true,
           "showland": true,
           "subunitcolor": "white"
          },
          "hoverlabel": {
           "align": "left"
          },
          "hovermode": "closest",
          "mapbox": {
           "style": "light"
          },
          "paper_bgcolor": "white",
          "plot_bgcolor": "#E5ECF6",
          "polar": {
           "angularaxis": {
            "gridcolor": "white",
            "linecolor": "white",
            "ticks": ""
           },
           "bgcolor": "#E5ECF6",
           "radialaxis": {
            "gridcolor": "white",
            "linecolor": "white",
            "ticks": ""
           }
          },
          "scene": {
           "xaxis": {
            "backgroundcolor": "#E5ECF6",
            "gridcolor": "white",
            "gridwidth": 2,
            "linecolor": "white",
            "showbackground": true,
            "ticks": "",
            "zerolinecolor": "white"
           },
           "yaxis": {
            "backgroundcolor": "#E5ECF6",
            "gridcolor": "white",
            "gridwidth": 2,
            "linecolor": "white",
            "showbackground": true,
            "ticks": "",
            "zerolinecolor": "white"
           },
           "zaxis": {
            "backgroundcolor": "#E5ECF6",
            "gridcolor": "white",
            "gridwidth": 2,
            "linecolor": "white",
            "showbackground": true,
            "ticks": "",
            "zerolinecolor": "white"
           }
          },
          "shapedefaults": {
           "line": {
            "color": "#2a3f5f"
           }
          },
          "ternary": {
           "aaxis": {
            "gridcolor": "white",
            "linecolor": "white",
            "ticks": ""
           },
           "baxis": {
            "gridcolor": "white",
            "linecolor": "white",
            "ticks": ""
           },
           "bgcolor": "#E5ECF6",
           "caxis": {
            "gridcolor": "white",
            "linecolor": "white",
            "ticks": ""
           }
          },
          "title": {
           "x": 0.05
          },
          "xaxis": {
           "automargin": true,
           "gridcolor": "white",
           "linecolor": "white",
           "ticks": "",
           "title": {
            "standoff": 15
           },
           "zerolinecolor": "white",
           "zerolinewidth": 2
          },
          "yaxis": {
           "automargin": true,
           "gridcolor": "white",
           "linecolor": "white",
           "ticks": "",
           "title": {
            "standoff": 15
           },
           "zerolinecolor": "white",
           "zerolinewidth": 2
          }
         }
        },
        "title": {
         "text": "fixation duration (sec)"
        }
       }
      }
     },
     "metadata": {}
    }
   ],
   "source": [
    "# pie for total duration\n",
    "fig = go.Figure()\n",
    "\n",
    "colors = np.array([''] * len(target_aggregate['target']), dtype = object)\n",
    "for i in np.unique(target_aggregate['target']):\n",
    "    colors[np.where(target_aggregate['target'] == i)] = color_dict[str(i)]\n",
    "fig.add_trace(\n",
    "    go.Pie(\n",
    "        labels=target_aggregate['target'],\n",
    "        values=round(target_aggregate['total duration']/1000),\n",
    "        marker_colors=colors,\n",
    "        textinfo='value+percent'\n",
    "        )\n",
    "    )\n",
    "fig.update_layout(\n",
    "    legend=dict(orientation='h'),\n",
    "    title_text='fixation duration (sec)'\n",
    ")\n",
    "fig.show()"
   ]
  },
  {
   "cell_type": "code",
   "execution_count": 10,
   "metadata": {},
   "outputs": [
    {
     "output_type": "display_data",
     "data": {
      "application/vnd.plotly.v1+json": {
       "config": {
        "plotlyServerURL": "https://plot.ly"
       },
       "data": [
        {
         "alignmentgroup": "True",
         "hoverlabel": {
          "namelength": 0
         },
         "hovertemplate": "target=%{x}<br>mean duration=%{y}",
         "legendgroup": "",
         "marker": {
          "color": "rgb(131, 198, 212)"
         },
         "name": "",
         "offsetgroup": "",
         "orientation": "v",
         "showlegend": false,
         "textposition": "auto",
         "type": "bar",
         "x": [
          "building",
          "cell phone",
          "others",
          "surroundings"
         ],
         "xaxis": "x",
         "y": [
          258.62068965517244,
          653.4413892908827,
          325.2631578947368,
          303.5
         ],
         "yaxis": "y"
        }
       ],
       "layout": {
        "barmode": "relative",
        "legend": {
         "tracegroupgap": 0
        },
        "plot_bgcolor": "rgba(250, 250, 250, 1)",
        "template": {
         "data": {
          "bar": [
           {
            "error_x": {
             "color": "#2a3f5f"
            },
            "error_y": {
             "color": "#2a3f5f"
            },
            "marker": {
             "line": {
              "color": "#E5ECF6",
              "width": 0.5
             }
            },
            "type": "bar"
           }
          ],
          "barpolar": [
           {
            "marker": {
             "line": {
              "color": "#E5ECF6",
              "width": 0.5
             }
            },
            "type": "barpolar"
           }
          ],
          "carpet": [
           {
            "aaxis": {
             "endlinecolor": "#2a3f5f",
             "gridcolor": "white",
             "linecolor": "white",
             "minorgridcolor": "white",
             "startlinecolor": "#2a3f5f"
            },
            "baxis": {
             "endlinecolor": "#2a3f5f",
             "gridcolor": "white",
             "linecolor": "white",
             "minorgridcolor": "white",
             "startlinecolor": "#2a3f5f"
            },
            "type": "carpet"
           }
          ],
          "choropleth": [
           {
            "colorbar": {
             "outlinewidth": 0,
             "ticks": ""
            },
            "type": "choropleth"
           }
          ],
          "contour": [
           {
            "colorbar": {
             "outlinewidth": 0,
             "ticks": ""
            },
            "colorscale": [
             [
              0,
              "#0d0887"
             ],
             [
              0.1111111111111111,
              "#46039f"
             ],
             [
              0.2222222222222222,
              "#7201a8"
             ],
             [
              0.3333333333333333,
              "#9c179e"
             ],
             [
              0.4444444444444444,
              "#bd3786"
             ],
             [
              0.5555555555555556,
              "#d8576b"
             ],
             [
              0.6666666666666666,
              "#ed7953"
             ],
             [
              0.7777777777777778,
              "#fb9f3a"
             ],
             [
              0.8888888888888888,
              "#fdca26"
             ],
             [
              1,
              "#f0f921"
             ]
            ],
            "type": "contour"
           }
          ],
          "contourcarpet": [
           {
            "colorbar": {
             "outlinewidth": 0,
             "ticks": ""
            },
            "type": "contourcarpet"
           }
          ],
          "heatmap": [
           {
            "colorbar": {
             "outlinewidth": 0,
             "ticks": ""
            },
            "colorscale": [
             [
              0,
              "#0d0887"
             ],
             [
              0.1111111111111111,
              "#46039f"
             ],
             [
              0.2222222222222222,
              "#7201a8"
             ],
             [
              0.3333333333333333,
              "#9c179e"
             ],
             [
              0.4444444444444444,
              "#bd3786"
             ],
             [
              0.5555555555555556,
              "#d8576b"
             ],
             [
              0.6666666666666666,
              "#ed7953"
             ],
             [
              0.7777777777777778,
              "#fb9f3a"
             ],
             [
              0.8888888888888888,
              "#fdca26"
             ],
             [
              1,
              "#f0f921"
             ]
            ],
            "type": "heatmap"
           }
          ],
          "heatmapgl": [
           {
            "colorbar": {
             "outlinewidth": 0,
             "ticks": ""
            },
            "colorscale": [
             [
              0,
              "#0d0887"
             ],
             [
              0.1111111111111111,
              "#46039f"
             ],
             [
              0.2222222222222222,
              "#7201a8"
             ],
             [
              0.3333333333333333,
              "#9c179e"
             ],
             [
              0.4444444444444444,
              "#bd3786"
             ],
             [
              0.5555555555555556,
              "#d8576b"
             ],
             [
              0.6666666666666666,
              "#ed7953"
             ],
             [
              0.7777777777777778,
              "#fb9f3a"
             ],
             [
              0.8888888888888888,
              "#fdca26"
             ],
             [
              1,
              "#f0f921"
             ]
            ],
            "type": "heatmapgl"
           }
          ],
          "histogram": [
           {
            "marker": {
             "colorbar": {
              "outlinewidth": 0,
              "ticks": ""
             }
            },
            "type": "histogram"
           }
          ],
          "histogram2d": [
           {
            "colorbar": {
             "outlinewidth": 0,
             "ticks": ""
            },
            "colorscale": [
             [
              0,
              "#0d0887"
             ],
             [
              0.1111111111111111,
              "#46039f"
             ],
             [
              0.2222222222222222,
              "#7201a8"
             ],
             [
              0.3333333333333333,
              "#9c179e"
             ],
             [
              0.4444444444444444,
              "#bd3786"
             ],
             [
              0.5555555555555556,
              "#d8576b"
             ],
             [
              0.6666666666666666,
              "#ed7953"
             ],
             [
              0.7777777777777778,
              "#fb9f3a"
             ],
             [
              0.8888888888888888,
              "#fdca26"
             ],
             [
              1,
              "#f0f921"
             ]
            ],
            "type": "histogram2d"
           }
          ],
          "histogram2dcontour": [
           {
            "colorbar": {
             "outlinewidth": 0,
             "ticks": ""
            },
            "colorscale": [
             [
              0,
              "#0d0887"
             ],
             [
              0.1111111111111111,
              "#46039f"
             ],
             [
              0.2222222222222222,
              "#7201a8"
             ],
             [
              0.3333333333333333,
              "#9c179e"
             ],
             [
              0.4444444444444444,
              "#bd3786"
             ],
             [
              0.5555555555555556,
              "#d8576b"
             ],
             [
              0.6666666666666666,
              "#ed7953"
             ],
             [
              0.7777777777777778,
              "#fb9f3a"
             ],
             [
              0.8888888888888888,
              "#fdca26"
             ],
             [
              1,
              "#f0f921"
             ]
            ],
            "type": "histogram2dcontour"
           }
          ],
          "mesh3d": [
           {
            "colorbar": {
             "outlinewidth": 0,
             "ticks": ""
            },
            "type": "mesh3d"
           }
          ],
          "parcoords": [
           {
            "line": {
             "colorbar": {
              "outlinewidth": 0,
              "ticks": ""
             }
            },
            "type": "parcoords"
           }
          ],
          "pie": [
           {
            "automargin": true,
            "type": "pie"
           }
          ],
          "scatter": [
           {
            "marker": {
             "colorbar": {
              "outlinewidth": 0,
              "ticks": ""
             }
            },
            "type": "scatter"
           }
          ],
          "scatter3d": [
           {
            "line": {
             "colorbar": {
              "outlinewidth": 0,
              "ticks": ""
             }
            },
            "marker": {
             "colorbar": {
              "outlinewidth": 0,
              "ticks": ""
             }
            },
            "type": "scatter3d"
           }
          ],
          "scattercarpet": [
           {
            "marker": {
             "colorbar": {
              "outlinewidth": 0,
              "ticks": ""
             }
            },
            "type": "scattercarpet"
           }
          ],
          "scattergeo": [
           {
            "marker": {
             "colorbar": {
              "outlinewidth": 0,
              "ticks": ""
             }
            },
            "type": "scattergeo"
           }
          ],
          "scattergl": [
           {
            "marker": {
             "colorbar": {
              "outlinewidth": 0,
              "ticks": ""
             }
            },
            "type": "scattergl"
           }
          ],
          "scattermapbox": [
           {
            "marker": {
             "colorbar": {
              "outlinewidth": 0,
              "ticks": ""
             }
            },
            "type": "scattermapbox"
           }
          ],
          "scatterpolar": [
           {
            "marker": {
             "colorbar": {
              "outlinewidth": 0,
              "ticks": ""
             }
            },
            "type": "scatterpolar"
           }
          ],
          "scatterpolargl": [
           {
            "marker": {
             "colorbar": {
              "outlinewidth": 0,
              "ticks": ""
             }
            },
            "type": "scatterpolargl"
           }
          ],
          "scatterternary": [
           {
            "marker": {
             "colorbar": {
              "outlinewidth": 0,
              "ticks": ""
             }
            },
            "type": "scatterternary"
           }
          ],
          "surface": [
           {
            "colorbar": {
             "outlinewidth": 0,
             "ticks": ""
            },
            "colorscale": [
             [
              0,
              "#0d0887"
             ],
             [
              0.1111111111111111,
              "#46039f"
             ],
             [
              0.2222222222222222,
              "#7201a8"
             ],
             [
              0.3333333333333333,
              "#9c179e"
             ],
             [
              0.4444444444444444,
              "#bd3786"
             ],
             [
              0.5555555555555556,
              "#d8576b"
             ],
             [
              0.6666666666666666,
              "#ed7953"
             ],
             [
              0.7777777777777778,
              "#fb9f3a"
             ],
             [
              0.8888888888888888,
              "#fdca26"
             ],
             [
              1,
              "#f0f921"
             ]
            ],
            "type": "surface"
           }
          ],
          "table": [
           {
            "cells": {
             "fill": {
              "color": "#EBF0F8"
             },
             "line": {
              "color": "white"
             }
            },
            "header": {
             "fill": {
              "color": "#C8D4E3"
             },
             "line": {
              "color": "white"
             }
            },
            "type": "table"
           }
          ]
         },
         "layout": {
          "annotationdefaults": {
           "arrowcolor": "#2a3f5f",
           "arrowhead": 0,
           "arrowwidth": 1
          },
          "coloraxis": {
           "colorbar": {
            "outlinewidth": 0,
            "ticks": ""
           }
          },
          "colorscale": {
           "diverging": [
            [
             0,
             "#8e0152"
            ],
            [
             0.1,
             "#c51b7d"
            ],
            [
             0.2,
             "#de77ae"
            ],
            [
             0.3,
             "#f1b6da"
            ],
            [
             0.4,
             "#fde0ef"
            ],
            [
             0.5,
             "#f7f7f7"
            ],
            [
             0.6,
             "#e6f5d0"
            ],
            [
             0.7,
             "#b8e186"
            ],
            [
             0.8,
             "#7fbc41"
            ],
            [
             0.9,
             "#4d9221"
            ],
            [
             1,
             "#276419"
            ]
           ],
           "sequential": [
            [
             0,
             "#0d0887"
            ],
            [
             0.1111111111111111,
             "#46039f"
            ],
            [
             0.2222222222222222,
             "#7201a8"
            ],
            [
             0.3333333333333333,
             "#9c179e"
            ],
            [
             0.4444444444444444,
             "#bd3786"
            ],
            [
             0.5555555555555556,
             "#d8576b"
            ],
            [
             0.6666666666666666,
             "#ed7953"
            ],
            [
             0.7777777777777778,
             "#fb9f3a"
            ],
            [
             0.8888888888888888,
             "#fdca26"
            ],
            [
             1,
             "#f0f921"
            ]
           ],
           "sequentialminus": [
            [
             0,
             "#0d0887"
            ],
            [
             0.1111111111111111,
             "#46039f"
            ],
            [
             0.2222222222222222,
             "#7201a8"
            ],
            [
             0.3333333333333333,
             "#9c179e"
            ],
            [
             0.4444444444444444,
             "#bd3786"
            ],
            [
             0.5555555555555556,
             "#d8576b"
            ],
            [
             0.6666666666666666,
             "#ed7953"
            ],
            [
             0.7777777777777778,
             "#fb9f3a"
            ],
            [
             0.8888888888888888,
             "#fdca26"
            ],
            [
             1,
             "#f0f921"
            ]
           ]
          },
          "colorway": [
           "#636efa",
           "#EF553B",
           "#00cc96",
           "#ab63fa",
           "#FFA15A",
           "#19d3f3",
           "#FF6692",
           "#B6E880",
           "#FF97FF",
           "#FECB52"
          ],
          "font": {
           "color": "#2a3f5f"
          },
          "geo": {
           "bgcolor": "white",
           "lakecolor": "white",
           "landcolor": "#E5ECF6",
           "showlakes": true,
           "showland": true,
           "subunitcolor": "white"
          },
          "hoverlabel": {
           "align": "left"
          },
          "hovermode": "closest",
          "mapbox": {
           "style": "light"
          },
          "paper_bgcolor": "white",
          "plot_bgcolor": "#E5ECF6",
          "polar": {
           "angularaxis": {
            "gridcolor": "white",
            "linecolor": "white",
            "ticks": ""
           },
           "bgcolor": "#E5ECF6",
           "radialaxis": {
            "gridcolor": "white",
            "linecolor": "white",
            "ticks": ""
           }
          },
          "scene": {
           "xaxis": {
            "backgroundcolor": "#E5ECF6",
            "gridcolor": "white",
            "gridwidth": 2,
            "linecolor": "white",
            "showbackground": true,
            "ticks": "",
            "zerolinecolor": "white"
           },
           "yaxis": {
            "backgroundcolor": "#E5ECF6",
            "gridcolor": "white",
            "gridwidth": 2,
            "linecolor": "white",
            "showbackground": true,
            "ticks": "",
            "zerolinecolor": "white"
           },
           "zaxis": {
            "backgroundcolor": "#E5ECF6",
            "gridcolor": "white",
            "gridwidth": 2,
            "linecolor": "white",
            "showbackground": true,
            "ticks": "",
            "zerolinecolor": "white"
           }
          },
          "shapedefaults": {
           "line": {
            "color": "#2a3f5f"
           }
          },
          "ternary": {
           "aaxis": {
            "gridcolor": "white",
            "linecolor": "white",
            "ticks": ""
           },
           "baxis": {
            "gridcolor": "white",
            "linecolor": "white",
            "ticks": ""
           },
           "bgcolor": "#E5ECF6",
           "caxis": {
            "gridcolor": "white",
            "linecolor": "white",
            "ticks": ""
           }
          },
          "title": {
           "x": 0.05
          },
          "xaxis": {
           "automargin": true,
           "gridcolor": "white",
           "linecolor": "white",
           "ticks": "",
           "title": {
            "standoff": 15
           },
           "zerolinecolor": "white",
           "zerolinewidth": 2
          },
          "yaxis": {
           "automargin": true,
           "gridcolor": "white",
           "linecolor": "white",
           "ticks": "",
           "title": {
            "standoff": 15
           },
           "zerolinecolor": "white",
           "zerolinewidth": 2
          }
         }
        },
        "title": {
         "text": "mean fixation duration"
        },
        "xaxis": {
         "anchor": "y",
         "domain": [
          0,
          1
         ],
         "title": {
          "text": "target"
         }
        },
        "yaxis": {
         "anchor": "x",
         "domain": [
          0,
          1
         ],
         "title": {
          "text": "mean duration"
         }
        }
       }
      }
     },
     "metadata": {}
    }
   ],
   "source": [
    "# bar for mean duration\n",
    "fig = px.bar(target_aggregate, x='target', y='mean duration', title='mean fixation duration',\n",
    "             color_discrete_sequence=[\"rgb(131, 198, 212)\"]\n",
    "             )\n",
    "fig.update_layout({'plot_bgcolor': 'rgba(250, 250, 250, 1)'})\n",
    "fig.show()"
   ]
  },
  {
   "cell_type": "markdown",
   "metadata": {},
   "source": [
    "### bar chart for switch frequency\n",
    "switch frequency = # of switches per minute  \n",
    "switch: a change of fixation target. "
   ]
  },
  {
   "cell_type": "code",
   "execution_count": 11,
   "metadata": {},
   "outputs": [],
   "source": [
    "# calculate switch\n",
    "df['next'] = df['target'].shift(-1)\n",
    "df['switch'] = ((df['next'] == 'cell phone') & (df['target'].isin(['surroundings']))) | \\\n",
    "                ((df['next'].isin(['surroundings'])) & (df['target'] == 'cell phone'))\n",
    "df['switch_2'] = ((df['next'] == 'cell phone') & (df['target'].isin(['building']))) | \\\n",
    "                    ((df['next'].isin(['building'])) & (df['target'] == 'cell phone'))\n",
    "# switch frequency\n",
    "length = df.at[len(df) - 1, 'Recording timestamp'] - df.at[0, 'Recording timestamp']\n",
    "m_marks = range(int(df.at[0, 'Recording timestamp']), int(df.at[len(df) - 1, 'Recording timestamp']), 60000)\n",
    "df['left'] = df.apply(lambda x: bisect.bisect_left(m_marks, x['Recording timestamp']), axis=1)\n",
    "df.at[0, 'left'] = 1  # set first row\n",
    "freq_df = df.groupby('left').agg({'Recording timestamp': 'count', 'switch': 'sum', 'switch_2': 'sum'}).reset_index()\n",
    "freq_df.columns = ['minute', 'fixation count', 'switch count', 'switch 2 count']"
   ]
  },
  {
   "cell_type": "code",
   "execution_count": 12,
   "metadata": {},
   "outputs": [
    {
     "output_type": "display_data",
     "data": {
      "application/vnd.plotly.v1+json": {
       "config": {
        "plotlyServerURL": "https://plot.ly"
       },
       "data": [
        {
         "legendgroup": "cell phone - other objects",
         "marker": {
          "color": "rgb(204, 235, 197)"
         },
         "name": "cell phone - other objects",
         "type": "bar",
         "x": [
          1,
          2,
          3,
          4,
          5,
          6,
          7,
          8,
          9,
          10,
          11,
          12
         ],
         "y": [
          9,
          18,
          6,
          4,
          3,
          6,
          12,
          4,
          16,
          11,
          7,
          0
         ]
        },
        {
         "legendgroup": "cell phone - building",
         "marker": {
          "color": "rgb(253, 180, 98)"
         },
         "name": "cell phone - building",
         "type": "bar",
         "x": [
          1,
          2,
          3,
          4,
          5,
          6,
          7,
          8,
          9,
          10,
          11,
          12
         ],
         "y": [
          4,
          0,
          7,
          2,
          3,
          4,
          3,
          0,
          2,
          1,
          6,
          0
         ]
        }
       ],
       "layout": {
        "barmode": "stack",
        "legend": {
         "orientation": "h"
        },
        "plot_bgcolor": "rgb(250, 250, 250)",
        "template": {
         "data": {
          "bar": [
           {
            "error_x": {
             "color": "#2a3f5f"
            },
            "error_y": {
             "color": "#2a3f5f"
            },
            "marker": {
             "line": {
              "color": "#E5ECF6",
              "width": 0.5
             }
            },
            "type": "bar"
           }
          ],
          "barpolar": [
           {
            "marker": {
             "line": {
              "color": "#E5ECF6",
              "width": 0.5
             }
            },
            "type": "barpolar"
           }
          ],
          "carpet": [
           {
            "aaxis": {
             "endlinecolor": "#2a3f5f",
             "gridcolor": "white",
             "linecolor": "white",
             "minorgridcolor": "white",
             "startlinecolor": "#2a3f5f"
            },
            "baxis": {
             "endlinecolor": "#2a3f5f",
             "gridcolor": "white",
             "linecolor": "white",
             "minorgridcolor": "white",
             "startlinecolor": "#2a3f5f"
            },
            "type": "carpet"
           }
          ],
          "choropleth": [
           {
            "colorbar": {
             "outlinewidth": 0,
             "ticks": ""
            },
            "type": "choropleth"
           }
          ],
          "contour": [
           {
            "colorbar": {
             "outlinewidth": 0,
             "ticks": ""
            },
            "colorscale": [
             [
              0,
              "#0d0887"
             ],
             [
              0.1111111111111111,
              "#46039f"
             ],
             [
              0.2222222222222222,
              "#7201a8"
             ],
             [
              0.3333333333333333,
              "#9c179e"
             ],
             [
              0.4444444444444444,
              "#bd3786"
             ],
             [
              0.5555555555555556,
              "#d8576b"
             ],
             [
              0.6666666666666666,
              "#ed7953"
             ],
             [
              0.7777777777777778,
              "#fb9f3a"
             ],
             [
              0.8888888888888888,
              "#fdca26"
             ],
             [
              1,
              "#f0f921"
             ]
            ],
            "type": "contour"
           }
          ],
          "contourcarpet": [
           {
            "colorbar": {
             "outlinewidth": 0,
             "ticks": ""
            },
            "type": "contourcarpet"
           }
          ],
          "heatmap": [
           {
            "colorbar": {
             "outlinewidth": 0,
             "ticks": ""
            },
            "colorscale": [
             [
              0,
              "#0d0887"
             ],
             [
              0.1111111111111111,
              "#46039f"
             ],
             [
              0.2222222222222222,
              "#7201a8"
             ],
             [
              0.3333333333333333,
              "#9c179e"
             ],
             [
              0.4444444444444444,
              "#bd3786"
             ],
             [
              0.5555555555555556,
              "#d8576b"
             ],
             [
              0.6666666666666666,
              "#ed7953"
             ],
             [
              0.7777777777777778,
              "#fb9f3a"
             ],
             [
              0.8888888888888888,
              "#fdca26"
             ],
             [
              1,
              "#f0f921"
             ]
            ],
            "type": "heatmap"
           }
          ],
          "heatmapgl": [
           {
            "colorbar": {
             "outlinewidth": 0,
             "ticks": ""
            },
            "colorscale": [
             [
              0,
              "#0d0887"
             ],
             [
              0.1111111111111111,
              "#46039f"
             ],
             [
              0.2222222222222222,
              "#7201a8"
             ],
             [
              0.3333333333333333,
              "#9c179e"
             ],
             [
              0.4444444444444444,
              "#bd3786"
             ],
             [
              0.5555555555555556,
              "#d8576b"
             ],
             [
              0.6666666666666666,
              "#ed7953"
             ],
             [
              0.7777777777777778,
              "#fb9f3a"
             ],
             [
              0.8888888888888888,
              "#fdca26"
             ],
             [
              1,
              "#f0f921"
             ]
            ],
            "type": "heatmapgl"
           }
          ],
          "histogram": [
           {
            "marker": {
             "colorbar": {
              "outlinewidth": 0,
              "ticks": ""
             }
            },
            "type": "histogram"
           }
          ],
          "histogram2d": [
           {
            "colorbar": {
             "outlinewidth": 0,
             "ticks": ""
            },
            "colorscale": [
             [
              0,
              "#0d0887"
             ],
             [
              0.1111111111111111,
              "#46039f"
             ],
             [
              0.2222222222222222,
              "#7201a8"
             ],
             [
              0.3333333333333333,
              "#9c179e"
             ],
             [
              0.4444444444444444,
              "#bd3786"
             ],
             [
              0.5555555555555556,
              "#d8576b"
             ],
             [
              0.6666666666666666,
              "#ed7953"
             ],
             [
              0.7777777777777778,
              "#fb9f3a"
             ],
             [
              0.8888888888888888,
              "#fdca26"
             ],
             [
              1,
              "#f0f921"
             ]
            ],
            "type": "histogram2d"
           }
          ],
          "histogram2dcontour": [
           {
            "colorbar": {
             "outlinewidth": 0,
             "ticks": ""
            },
            "colorscale": [
             [
              0,
              "#0d0887"
             ],
             [
              0.1111111111111111,
              "#46039f"
             ],
             [
              0.2222222222222222,
              "#7201a8"
             ],
             [
              0.3333333333333333,
              "#9c179e"
             ],
             [
              0.4444444444444444,
              "#bd3786"
             ],
             [
              0.5555555555555556,
              "#d8576b"
             ],
             [
              0.6666666666666666,
              "#ed7953"
             ],
             [
              0.7777777777777778,
              "#fb9f3a"
             ],
             [
              0.8888888888888888,
              "#fdca26"
             ],
             [
              1,
              "#f0f921"
             ]
            ],
            "type": "histogram2dcontour"
           }
          ],
          "mesh3d": [
           {
            "colorbar": {
             "outlinewidth": 0,
             "ticks": ""
            },
            "type": "mesh3d"
           }
          ],
          "parcoords": [
           {
            "line": {
             "colorbar": {
              "outlinewidth": 0,
              "ticks": ""
             }
            },
            "type": "parcoords"
           }
          ],
          "pie": [
           {
            "automargin": true,
            "type": "pie"
           }
          ],
          "scatter": [
           {
            "marker": {
             "colorbar": {
              "outlinewidth": 0,
              "ticks": ""
             }
            },
            "type": "scatter"
           }
          ],
          "scatter3d": [
           {
            "line": {
             "colorbar": {
              "outlinewidth": 0,
              "ticks": ""
             }
            },
            "marker": {
             "colorbar": {
              "outlinewidth": 0,
              "ticks": ""
             }
            },
            "type": "scatter3d"
           }
          ],
          "scattercarpet": [
           {
            "marker": {
             "colorbar": {
              "outlinewidth": 0,
              "ticks": ""
             }
            },
            "type": "scattercarpet"
           }
          ],
          "scattergeo": [
           {
            "marker": {
             "colorbar": {
              "outlinewidth": 0,
              "ticks": ""
             }
            },
            "type": "scattergeo"
           }
          ],
          "scattergl": [
           {
            "marker": {
             "colorbar": {
              "outlinewidth": 0,
              "ticks": ""
             }
            },
            "type": "scattergl"
           }
          ],
          "scattermapbox": [
           {
            "marker": {
             "colorbar": {
              "outlinewidth": 0,
              "ticks": ""
             }
            },
            "type": "scattermapbox"
           }
          ],
          "scatterpolar": [
           {
            "marker": {
             "colorbar": {
              "outlinewidth": 0,
              "ticks": ""
             }
            },
            "type": "scatterpolar"
           }
          ],
          "scatterpolargl": [
           {
            "marker": {
             "colorbar": {
              "outlinewidth": 0,
              "ticks": ""
             }
            },
            "type": "scatterpolargl"
           }
          ],
          "scatterternary": [
           {
            "marker": {
             "colorbar": {
              "outlinewidth": 0,
              "ticks": ""
             }
            },
            "type": "scatterternary"
           }
          ],
          "surface": [
           {
            "colorbar": {
             "outlinewidth": 0,
             "ticks": ""
            },
            "colorscale": [
             [
              0,
              "#0d0887"
             ],
             [
              0.1111111111111111,
              "#46039f"
             ],
             [
              0.2222222222222222,
              "#7201a8"
             ],
             [
              0.3333333333333333,
              "#9c179e"
             ],
             [
              0.4444444444444444,
              "#bd3786"
             ],
             [
              0.5555555555555556,
              "#d8576b"
             ],
             [
              0.6666666666666666,
              "#ed7953"
             ],
             [
              0.7777777777777778,
              "#fb9f3a"
             ],
             [
              0.8888888888888888,
              "#fdca26"
             ],
             [
              1,
              "#f0f921"
             ]
            ],
            "type": "surface"
           }
          ],
          "table": [
           {
            "cells": {
             "fill": {
              "color": "#EBF0F8"
             },
             "line": {
              "color": "white"
             }
            },
            "header": {
             "fill": {
              "color": "#C8D4E3"
             },
             "line": {
              "color": "white"
             }
            },
            "type": "table"
           }
          ]
         },
         "layout": {
          "annotationdefaults": {
           "arrowcolor": "#2a3f5f",
           "arrowhead": 0,
           "arrowwidth": 1
          },
          "coloraxis": {
           "colorbar": {
            "outlinewidth": 0,
            "ticks": ""
           }
          },
          "colorscale": {
           "diverging": [
            [
             0,
             "#8e0152"
            ],
            [
             0.1,
             "#c51b7d"
            ],
            [
             0.2,
             "#de77ae"
            ],
            [
             0.3,
             "#f1b6da"
            ],
            [
             0.4,
             "#fde0ef"
            ],
            [
             0.5,
             "#f7f7f7"
            ],
            [
             0.6,
             "#e6f5d0"
            ],
            [
             0.7,
             "#b8e186"
            ],
            [
             0.8,
             "#7fbc41"
            ],
            [
             0.9,
             "#4d9221"
            ],
            [
             1,
             "#276419"
            ]
           ],
           "sequential": [
            [
             0,
             "#0d0887"
            ],
            [
             0.1111111111111111,
             "#46039f"
            ],
            [
             0.2222222222222222,
             "#7201a8"
            ],
            [
             0.3333333333333333,
             "#9c179e"
            ],
            [
             0.4444444444444444,
             "#bd3786"
            ],
            [
             0.5555555555555556,
             "#d8576b"
            ],
            [
             0.6666666666666666,
             "#ed7953"
            ],
            [
             0.7777777777777778,
             "#fb9f3a"
            ],
            [
             0.8888888888888888,
             "#fdca26"
            ],
            [
             1,
             "#f0f921"
            ]
           ],
           "sequentialminus": [
            [
             0,
             "#0d0887"
            ],
            [
             0.1111111111111111,
             "#46039f"
            ],
            [
             0.2222222222222222,
             "#7201a8"
            ],
            [
             0.3333333333333333,
             "#9c179e"
            ],
            [
             0.4444444444444444,
             "#bd3786"
            ],
            [
             0.5555555555555556,
             "#d8576b"
            ],
            [
             0.6666666666666666,
             "#ed7953"
            ],
            [
             0.7777777777777778,
             "#fb9f3a"
            ],
            [
             0.8888888888888888,
             "#fdca26"
            ],
            [
             1,
             "#f0f921"
            ]
           ]
          },
          "colorway": [
           "#636efa",
           "#EF553B",
           "#00cc96",
           "#ab63fa",
           "#FFA15A",
           "#19d3f3",
           "#FF6692",
           "#B6E880",
           "#FF97FF",
           "#FECB52"
          ],
          "font": {
           "color": "#2a3f5f"
          },
          "geo": {
           "bgcolor": "white",
           "lakecolor": "white",
           "landcolor": "#E5ECF6",
           "showlakes": true,
           "showland": true,
           "subunitcolor": "white"
          },
          "hoverlabel": {
           "align": "left"
          },
          "hovermode": "closest",
          "mapbox": {
           "style": "light"
          },
          "paper_bgcolor": "white",
          "plot_bgcolor": "#E5ECF6",
          "polar": {
           "angularaxis": {
            "gridcolor": "white",
            "linecolor": "white",
            "ticks": ""
           },
           "bgcolor": "#E5ECF6",
           "radialaxis": {
            "gridcolor": "white",
            "linecolor": "white",
            "ticks": ""
           }
          },
          "scene": {
           "xaxis": {
            "backgroundcolor": "#E5ECF6",
            "gridcolor": "white",
            "gridwidth": 2,
            "linecolor": "white",
            "showbackground": true,
            "ticks": "",
            "zerolinecolor": "white"
           },
           "yaxis": {
            "backgroundcolor": "#E5ECF6",
            "gridcolor": "white",
            "gridwidth": 2,
            "linecolor": "white",
            "showbackground": true,
            "ticks": "",
            "zerolinecolor": "white"
           },
           "zaxis": {
            "backgroundcolor": "#E5ECF6",
            "gridcolor": "white",
            "gridwidth": 2,
            "linecolor": "white",
            "showbackground": true,
            "ticks": "",
            "zerolinecolor": "white"
           }
          },
          "shapedefaults": {
           "line": {
            "color": "#2a3f5f"
           }
          },
          "ternary": {
           "aaxis": {
            "gridcolor": "white",
            "linecolor": "white",
            "ticks": ""
           },
           "baxis": {
            "gridcolor": "white",
            "linecolor": "white",
            "ticks": ""
           },
           "bgcolor": "#E5ECF6",
           "caxis": {
            "gridcolor": "white",
            "linecolor": "white",
            "ticks": ""
           }
          },
          "title": {
           "x": 0.05
          },
          "xaxis": {
           "automargin": true,
           "gridcolor": "white",
           "linecolor": "white",
           "ticks": "",
           "title": {
            "standoff": 15
           },
           "zerolinecolor": "white",
           "zerolinewidth": 2
          },
          "yaxis": {
           "automargin": true,
           "gridcolor": "white",
           "linecolor": "white",
           "ticks": "",
           "title": {
            "standoff": 15
           },
           "zerolinecolor": "white",
           "zerolinewidth": 2
          }
         }
        },
        "title": {
         "text": "# of switches between cell phone and environment per minute"
        },
        "xaxis": {
         "dtick": 1,
         "tick0": 1,
         "tickmode": "linear",
         "title": {
          "text": "minute"
         }
        },
        "yaxis": {
         "title": {
          "text": "# of switches"
         }
        }
       }
      }
     },
     "metadata": {}
    }
   ],
   "source": [
    "# plot them\n",
    "fig = go.Figure()\n",
    "fig.add_trace(go.Bar(x=freq_df['minute'], y=freq_df['switch count'],\n",
    "                        name='cell phone - other objects',\n",
    "                        marker=dict(color=switch_color_dict['cell phone - other objects']),\n",
    "                        legendgroup='cell phone - other objects'))\n",
    "fig.add_trace(go.Bar(x=freq_df['minute'], y=freq_df['switch 2 count'],\n",
    "                        name='cell phone - building',\n",
    "                        marker=dict(color=switch_color_dict['cell phone - building']),\n",
    "                        legendgroup='cell phone - building'))\n",
    "fig.update_layout(barmode='stack',\n",
    "                  legend=dict(orientation='h'),\n",
    "                  yaxis_title=\"# of switches\",\n",
    "                  xaxis_title='minute',\n",
    "                  xaxis=dict(tickmode='linear', tick0=1, dtick=1),\n",
    "                  plot_bgcolor='rgb(250, 250, 250)',\n",
    "                  title_text='# of switches between cell phone and environment per minute')\n",
    "                  \n",
    "fig.show()"
   ]
  },
  {
   "cell_type": "markdown",
   "metadata": {},
   "source": [
    "### sequence plot to explore the fixation sequence \n",
    "plot can be explored interactively (pan zoom etc.)"
   ]
  },
  {
   "cell_type": "code",
   "execution_count": 13,
   "metadata": {},
   "outputs": [],
   "source": [
    "sequence_color_dict = {'info': 'rgb(253, 180, 98)',\n",
    "              'map_ar': 'rgb(144, 211, 199)',  # green-ish\n",
    "              'old_map': \"rgb(255, 237, 111)\", # yellow-ish\n",
    "              'take_note': 'rgb(252, 205, 229)',\n",
    "              'view_note': 'rgb(190, 186, 218)',\n",
    "              'surroundings': 'rgb(204, 235, 197)',\n",
    "              'building': 'rgb(128, 177, 211)', \n",
    "              'others': 'rgb(203, 203, 203)'}"
   ]
  },
  {
   "cell_type": "code",
   "execution_count": 14,
   "metadata": {},
   "outputs": [
    {
     "output_type": "display_data",
     "data": {
      "application/vnd.plotly.v1+json": {
       "config": {
        "plotlyServerURL": "https://plot.ly"
       },
       "data": [
        {
         "base": [
          14.296999999999983,
          33.112999999999985,
          124.771,
          131.39,
          133.849,
          134.00900000000001,
          139.688,
          139.988,
          140.40800000000002,
          140.92700000000002,
          147.06600000000003,
          147.30599999999998,
          157.983,
          182.358,
          234.70600000000002,
          247.223,
          295.551,
          357.47700000000003,
          357.677,
          360.076,
          375.552,
          378.172,
          412.26399999999995,
          417.762,
          517.039,
          518.958,
          523.737,
          541.8729999999999,
          547.512,
          548.3915,
          548.8309999999999,
          550.591,
          551.391,
          551.591,
          552.391,
          552.65,
          554.12,
          555.63,
          557.909,
          558.169,
          566.6469999999999,
          566.847,
          567.207,
          568.007,
          574.645,
          591.001,
          591.1809999999999,
          591.761,
          593.231,
          593.481,
          596.4399999999999,
          599.2389999999999,
          602.978,
          603.078,
          642.1089999999999,
          642.3489999999999,
          644.439,
          652.4069999999999
         ],
         "marker": {
          "color": "rgb(128, 177, 211)"
         },
         "name": "building",
         "orientation": "h",
         "showlegend": false,
         "type": "bar",
         "x": [
          1.08,
          0.16,
          0.14,
          0.26,
          0.1,
          0.12,
          0.28,
          0.14,
          0.16,
          0.1,
          0.22,
          0.08,
          1.56,
          0.08,
          0.14,
          0.22,
          0.18,
          0.08,
          0.16,
          0.16,
          0.14,
          0.14,
          0.22,
          0.08,
          0.38,
          0.26,
          0.14,
          0.08,
          0.1,
          0.32,
          0.16,
          0.54,
          0.1,
          0.16,
          0.08,
          0.08,
          0.64,
          0.12,
          0.24,
          0.12,
          0.18,
          0.12,
          0.48,
          0.4,
          0.54,
          0.1,
          0.52,
          0.08,
          0.16,
          0.4,
          0.44,
          0.38,
          0.08,
          0.08,
          0.2,
          0.34,
          0.18,
          0.8
         ],
         "y": [
          "building",
          "building",
          "building",
          "building",
          "building",
          "building",
          "building",
          "building",
          "building",
          "building",
          "building",
          "building",
          "building",
          "building",
          "building",
          "building",
          "building",
          "building",
          "building",
          "building",
          "building",
          "building",
          "building",
          "building",
          "building",
          "building",
          "building",
          "building",
          "building",
          "building",
          "building",
          "building",
          "building",
          "building",
          "building",
          "building",
          "building",
          "building",
          "building",
          "building",
          "building",
          "building",
          "building",
          "building",
          "building",
          "building",
          "building",
          "building",
          "building",
          "building",
          "building",
          "building",
          "building",
          "building",
          "building",
          "building",
          "building",
          "building"
         ]
        },
        {
         "base": [
          71.93399999999998,
          77.522,
          98.41699999999999,
          152.21500000000003,
          154.04399999999998,
          154.62400000000002,
          155.324,
          156.50400000000002,
          159.563,
          160.89300000000003,
          162.632,
          163.92200000000003,
          165.762,
          166.2615,
          169.281,
          169.70100000000002,
          170.801,
          171.41000000000003,
          172.32,
          172.89,
          173.46050000000002,
          175.59950000000003,
          178.93900000000002,
          179.25799999999998,
          180.27800000000002,
          181.51800000000003,
          182.45800000000003,
          182.78700000000003,
          183.39800000000002,
          183.89800000000002,
          184.397,
          185.637,
          186.897,
          187.11700000000002,
          187.41700000000003,
          187.67700000000002,
          187.916,
          189.176,
          296.471,
          297.1715,
          299.57,
          300.51,
          301.27,
          302.34000000000003,
          315.527,
          316.646,
          317.12600000000003,
          317.446,
          317.946,
          318.06600000000003,
          321.665,
          321.845,
          323.385,
          323.605,
          323.92400000000004,
          325.30400000000003,
          389.529,
          390.649,
          391.738,
          393.57099999999997,
          393.968,
          421.542,
          422.35100000000006,
          422.96099999999996,
          423.73100000000005,
          424.761,
          426.08,
          427.88000000000005,
          428.32,
          428.58,
          428.68,
          429.61899999999997,
          430.859,
          432.29900000000004,
          432.91900000000004,
          433.74899999999997,
          434.61899999999997,
          435.758,
          436.758,
          437.29800000000006,
          437.858,
          439.07700000000006,
          439.29699999999997,
          439.47700000000003,
          457.613,
          513.9499999999999,
          574.3649999999999,
          576.385,
          577.3249999999999,
          579.3439999999999,
          579.524,
          581.0039999999999,
          586.4019999999999,
          597.68,
          601.2389999999999,
          604.7579999999999,
          604.8979999999999,
          605.2379999999999,
          609.5569999999999,
          611.4169999999999,
          612.4159999999999,
          613.246,
          613.536,
          614.2059999999999,
          615.6949999999999,
          617.1954999999999,
          619.2139999999999,
          621.074,
          621.8739999999999,
          623.0329999999999,
          623.954,
          624.4029999999999,
          625.9929999999999,
          626.453,
          627.6329999999999,
          627.793,
          628.6519999999999,
          633.491,
          633.6709999999999,
          634.4209999999999,
          634.6709999999999,
          635.1909999999999
         ],
         "marker": {
          "color": "rgb(253, 180, 98)"
         },
         "name": "info",
         "orientation": "h",
         "showlegend": false,
         "type": "bar",
         "x": [
          1.06,
          0.8,
          0.48,
          1.7,
          0.46,
          0.68,
          1.16,
          1.46,
          1.3,
          1.74,
          1.26,
          1.82,
          0.48,
          2.999,
          0.4,
          1.06,
          0.58,
          0.9,
          0.48,
          0.44,
          2.019,
          3.319,
          0.22,
          1,
          1.12,
          0.32,
          0.3,
          0.52,
          0.48,
          0.48,
          0.28,
          0.64,
          0.2,
          0.18,
          0.24,
          0.22,
          1.16,
          0.2,
          0.66,
          2.359,
          0.86,
          0.74,
          0.96,
          0.62,
          1.1,
          0.42,
          0.12,
          0.48,
          0.08,
          0.16,
          0.16,
          0.1,
          0.2,
          0.3,
          1.3,
          0.08,
          1.1,
          0.36,
          0.98,
          0.26,
          0.58,
          0.78,
          0.6,
          0.7,
          1,
          1.3,
          1.76,
          0.42,
          0.12,
          0.08,
          0.9,
          1.2,
          1.4,
          0.52,
          0.78,
          0.4,
          0.38,
          0.86,
          0.4,
          0.44,
          1.14,
          0.14,
          0.16,
          0.34,
          0.22,
          1.1,
          0.24,
          0.92,
          0.32,
          0.16,
          0.2,
          0.36,
          0.4,
          0.44,
          0.54,
          0.08,
          0.32,
          1.28,
          1.82,
          0.9,
          0.8,
          0.28,
          0.66,
          1.46,
          1.46,
          1.999,
          1.84,
          0.78,
          1.12,
          0.78,
          0.32,
          1.52,
          0.38,
          1.16,
          0.14,
          0.8,
          1.92,
          0.16,
          0.18,
          0.22,
          0.48,
          0.18
         ],
         "y": [
          "info",
          "info",
          "info",
          "info",
          "info",
          "info",
          "info",
          "info",
          "info",
          "info",
          "info",
          "info",
          "info",
          "info",
          "info",
          "info",
          "info",
          "info",
          "info",
          "info",
          "info",
          "info",
          "info",
          "info",
          "info",
          "info",
          "info",
          "info",
          "info",
          "info",
          "info",
          "info",
          "info",
          "info",
          "info",
          "info",
          "info",
          "info",
          "info",
          "info",
          "info",
          "info",
          "info",
          "info",
          "info",
          "info",
          "info",
          "info",
          "info",
          "info",
          "info",
          "info",
          "info",
          "info",
          "info",
          "info",
          "info",
          "info",
          "info",
          "info",
          "info",
          "info",
          "info",
          "info",
          "info",
          "info",
          "info",
          "info",
          "info",
          "info",
          "info",
          "info",
          "info",
          "info",
          "info",
          "info",
          "info",
          "info",
          "info",
          "info",
          "info",
          "info",
          "info",
          "info",
          "info",
          "info",
          "info",
          "info",
          "info",
          "info",
          "info",
          "info",
          "info",
          "info",
          "info",
          "info",
          "info",
          "info",
          "info",
          "info",
          "info",
          "info",
          "info",
          "info",
          "info",
          "info",
          "info",
          "info",
          "info",
          "info",
          "info",
          "info",
          "info",
          "info",
          "info",
          "info",
          "info",
          "info",
          "info",
          "info",
          "info",
          "info"
         ]
        },
        {
         "base": [
          0.5,
          1.519999999999996,
          2.0494999999999948,
          5.878999999999991,
          8.177999999999997,
          9.077999999999989,
          10.947999999999993,
          11.838000000000008,
          13.876999999999995,
          15.397000000000006,
          15.997,
          16.116,
          17.775999999999996,
          17.956000000000003,
          18.616,
          18.796000000000006,
          19.736000000000004,
          21.215999999999994,
          21.456000000000003,
          21.554999999999993,
          22.135000000000005,
          24.455,
          26.993999999999986,
          28.474000000000004,
          29.852999999999994,
          31.01299999999999,
          31.473,
          33.63199999999999,
          34.011999999999986,
          34.89199999999998,
          35.39199999999998,
          35.932,
          36.272000000000006,
          37.85199999999999,
          38.491,
          39.03099999999999,
          39.41099999999999,
          40.961,
          41.67100000000001,
          42.05999999999999,
          42.86999999999999,
          42.989999999999995,
          43.40999999999998,
          43.67,
          44.249999999999986,
          44.790000000000006,
          45.17,
          45.58999999999999,
          46.02999999999999,
          46.54899999999999,
          47.18900000000001,
          48.949,
          50.96900000000001,
          51.457999999999984,
          52.158,
          53.7685,
          56.58749999999999,
          59.076499999999996,
          62.39649999999999,
          64.66599999999998,
          65.085,
          66.705,
          68.205,
          69.30399999999999,
          69.86399999999999,
          70.36399999999999,
          70.944,
          73.0835,
          75.76299999999999,
          75.92299999999999,
          76.52299999999998,
          78.44249999999998,
          81.021,
          83.16099999999999,
          83.741,
          84.421,
          85.14,
          86.46,
          86.7,
          87.10000000000001,
          90.08,
          91.039,
          91.789,
          93.259,
          93.659,
          94.478,
          94.79799999999999,
          94.95799999999998,
          95.39799999999998,
          95.698,
          96.938,
          99.19699999999999,
          100.19699999999999,
          101.85699999999999,
          102.217,
          102.557,
          102.76699999999998,
          103.03699999999999,
          103.336,
          104.41599999999998,
          104.716,
          106.65599999999999,
          108.43499999999999,
          108.575,
          108.93499999999999,
          109.49499999999999,
          110.784,
          113.9945,
          117.11299999999999,
          118.51299999999999,
          118.873,
          121.272,
          121.70199999999998,
          123.052,
          126.711,
          127.051,
          128.07099999999997,
          130.01,
          132.87900000000002,
          133.16899999999998,
          133.529,
          135.06900000000002,
          136.848,
          137.228,
          137.40800000000002,
          137.70800000000003,
          141.66700000000003,
          141.92700000000002,
          142.067,
          142.637,
          144.327,
          144.94600000000003,
          147.68600000000004,
          149.8155,
          190.0865,
          192.53500000000003,
          257.66,
          258.76,
          260.409,
          265.978,
          266.178,
          266.418,
          266.538,
          266.718,
          267.158,
          268.718,
          269.077,
          269.257,
          269.437,
          269.797,
          270.017,
          270.41700000000003,
          271.017,
          271.677,
          271.89750000000004,
          274.076,
          274.356,
          275.056,
          275.796,
          278.035,
          278.375,
          278.795,
          279.135,
          279.375,
          279.755,
          279.955,
          280.795,
          281.235,
          281.704,
          283.0445,
          285.434,
          285.633,
          286.053,
          286.353,
          286.713,
          288.553,
          290.372,
          292.302,
          292.812,
          292.982,
          294.651,
          295.851,
          318.266,
          319.746,
          325.404,
          325.644,
          326.144,
          326.524,
          326.684,
          326.904,
          327.784,
          328.76300000000003,
          329.983,
          330.64300000000003,
          331.123,
          331.463,
          332.39300000000003,
          332.862,
          333.392,
          334.142,
          335.302,
          335.842,
          335.982,
          336.661,
          338.361,
          338.94100000000003,
          339.56100000000004,
          340.00100000000003,
          341.261,
          343.19,
          344.2,
          346.039,
          346.399,
          346.579,
          347.059,
          347.7795,
          350.738,
          351.568,
          352.868,
          354.057,
          355.657,
          356.197,
          356.677,
          357.91700000000003,
          358.116,
          358.556,
          358.796,
          359.336,
          359.696,
          360.276,
          360.516,
          361.0955,
          364.355,
          366.794,
          366.934,
          367.354,
          369.134,
          369.274,
          381.211,
          381.431,
          382.871,
          383.301,
          384.47,
          385.91,
          386.23,
          394.90799999999996,
          398.44700000000006,
          398.54699999999997,
          398.907,
          399.147,
          399.96700000000004,
          400.406,
          400.646,
          400.766,
          401.146,
          401.406,
          402.37600000000003,
          402.916,
          404.066,
          404.565,
          404.945,
          405.185,
          406.34499999999997,
          407.825,
          409.30400000000003,
          410.24399999999997,
          410.50399999999996,
          410.66400000000004,
          411.064,
          412.67400000000004,
          413.24399999999997,
          413.4835,
          413.613,
          414.1035,
          416.92300000000006,
          417.862,
          418.68199999999996,
          419.502,
          419.80199999999996,
          419.96200000000005,
          420.10200000000003,
          420.862,
          421.08200000000005,
          439.93699999999995,
          440.45700000000005,
          440.97700000000003,
          443.25600000000003,
          443.676,
          443.95599999999996,
          444.71600000000007,
          444.99600000000004,
          445.33599999999996,
          445.776,
          446.35600000000005,
          446.59600000000006,
          446.87500000000006,
          447.075,
          447.65500000000003,
          447.9555,
          450.75399999999996,
          452.24399999999997,
          453.844,
          454.51399999999995,
          454.734,
          454.934,
          455.253,
          456.853,
          458.81300000000005,
          484.646,
          485.08599999999996,
          485.766,
          490.825,
          490.965,
          491.34499999999997,
          492.955,
          493.14400000000006,
          493.444,
          493.67400000000004,
          498.32300000000004,
          499.16299999999995,
          502.022,
          502.2425,
          505.142,
          505.88100000000003,
          506.141,
          506.421,
          509.38100000000003,
          517.7189999999999,
          518.579,
          526.3969999999999,
          539.9929999999999,
          571.3264999999999,
          635.3915,
          638.6099999999999,
          639.43,
          640.8489999999999,
          641.6089999999999,
          641.829,
          642.7289999999999,
          643.0989999999999,
          644.149,
          644.7479999999999,
          645.428,
          647.1279999999999,
          648.228,
          649.0079999999999,
          650.4269999999999,
          651.387,
          651.947,
          652.207,
          653.227,
          653.5469999999999,
          653.7059999999999,
          654.396,
          654.726,
          655.006,
          655.4459999999999,
          656.406,
          656.986,
          657.3655,
          660.2049999999999,
          661.4944999999999,
          664.564,
          664.784,
          665.204,
          665.4839999999999,
          666.2829999999999,
          666.603,
          667.1329999999999
         ],
         "marker": {
          "color": "rgb(144, 211, 199)"
         },
         "name": "map_ar",
         "orientation": "h",
         "showlegend": false,
         "type": "bar",
         "x": [
          0.4,
          0.44,
          3.799,
          2.28,
          0.88,
          1.76,
          0.88,
          0.52,
          0.4,
          0.32,
          0.1,
          0.6,
          0.16,
          0.64,
          0.16,
          0.42,
          0.28,
          0.22,
          0.08,
          0.2,
          0.16,
          0.36,
          0.22,
          1.28,
          1.14,
          0.44,
          1.12,
          0.36,
          0.78,
          0.38,
          0.52,
          0.32,
          1.52,
          0.6,
          0.48,
          0.3,
          1.4,
          0.7,
          0.34,
          0.78,
          0.1,
          0.34,
          0.24,
          0.5,
          0.48,
          0.3,
          0.38,
          0.4,
          0.4,
          0.52,
          1.64,
          1.98,
          0.46,
          0.68,
          1.54,
          2.659,
          2.459,
          3.319,
          2.219,
          0.4,
          1.56,
          0.54,
          1.04,
          0.52,
          0.44,
          0.54,
          0.16,
          2.639,
          0.14,
          0.48,
          0.6,
          2.499,
          1.92,
          0.5,
          0.26,
          0.62,
          1.14,
          0.2,
          0.36,
          2.94,
          0.14,
          0.7,
          1.44,
          0.38,
          0.8,
          0.3,
          0.14,
          0.42,
          0.28,
          1.14,
          0.6,
          0.96,
          0.46,
          0.32,
          0.2,
          0.18,
          0.24,
          0.24,
          1.04,
          0.28,
          1.9,
          0.82,
          0.12,
          0.34,
          0.54,
          1.16,
          1.18,
          3.099,
          1.38,
          0.28,
          1.12,
          0.4,
          0.72,
          0.8,
          0.32,
          0.92,
          0.14,
          0.22,
          0.24,
          0.24,
          0.16,
          0.1,
          0.28,
          0.12,
          0.18,
          0.14,
          0.24,
          0.1,
          0.54,
          0.84,
          0.6,
          1.02,
          2,
          2.379,
          2.419,
          0.22,
          0.98,
          1.52,
          2.24,
          0.18,
          0.22,
          0.08,
          0.16,
          0.42,
          1.54,
          0.34,
          0.16,
          0.14,
          0.34,
          0.2,
          0.36,
          0.54,
          0.62,
          0.08,
          2.079,
          0.16,
          0.68,
          0.72,
          0.48,
          0.32,
          0.38,
          0.28,
          0.14,
          0.36,
          0.18,
          0.82,
          0.4,
          0.42,
          1.28,
          2.339,
          0.16,
          0.38,
          0.2,
          0.34,
          1.82,
          1.7,
          1.92,
          0.46,
          0.16,
          1.6,
          0.78,
          0.14,
          1.46,
          0.16,
          0.22,
          0.22,
          0.36,
          0.14,
          0.18,
          0.8,
          0.96,
          1.2,
          0.62,
          0.44,
          0.3,
          0.84,
          0.32,
          0.46,
          0.62,
          1.14,
          0.52,
          0.08,
          0.66,
          1.68,
          0.54,
          0.6,
          0.38,
          1.24,
          0.66,
          0.98,
          1.82,
          0.28,
          0.16,
          0.4,
          0.66,
          2.919,
          0.78,
          1.2,
          1.08,
          1.56,
          0.5,
          0.46,
          0.64,
          0.18,
          0.42,
          0.22,
          0.52,
          0.34,
          0.36,
          0.2,
          0.46,
          2.619,
          1,
          0.06,
          0.3,
          0.2,
          0.1,
          0.16,
          0.2,
          0.66,
          0.38,
          0.48,
          1.4,
          0.3,
          0.2,
          0.24,
          0.08,
          0.32,
          0.2,
          0.72,
          0.4,
          0.2,
          0.1,
          0.26,
          0.22,
          0.92,
          0.5,
          1.12,
          0.34,
          0.34,
          0.22,
          1.14,
          0.9,
          0.62,
          0.92,
          0.22,
          0.14,
          0.36,
          0.32,
          0.52,
          0.22,
          0.12,
          0.4,
          2.799,
          0.2,
          0.6,
          0.8,
          0.28,
          0.14,
          0.12,
          0.64,
          0.2,
          0.44,
          0.48,
          0.36,
          0.54,
          0.4,
          0.18,
          0.74,
          0.2,
          0.32,
          0.42,
          0.56,
          0.22,
          0.22,
          0.18,
          0.56,
          0.26,
          2.719,
          1.38,
          1.56,
          0.62,
          0.18,
          0.16,
          0.3,
          1.58,
          0.72,
          0.34,
          0.32,
          0.66,
          0.8,
          0.1,
          0.36,
          0.32,
          0.16,
          0.26,
          0.22,
          0.88,
          0.76,
          1.58,
          0.2,
          2.879,
          0.7,
          0.24,
          0.24,
          1.14,
          0.18,
          0.84,
          0.12,
          0.16,
          0.08,
          3.039,
          2.419,
          0.62,
          1.38,
          0.72,
          0.1,
          0.24,
          0.34,
          1,
          0.18,
          0.4,
          1.6,
          1.06,
          0.66,
          1.36,
          0.86,
          0.44,
          0.24,
          0.18,
          0.18,
          0.08,
          0.48,
          0.3,
          0.22,
          0.36,
          0.88,
          0.46,
          0.14,
          2.819,
          1.14,
          2.979,
          0.2,
          0.38,
          0.26,
          0.78,
          0.3,
          0.52,
          0.12
         ],
         "y": [
          "map_ar",
          "map_ar",
          "map_ar",
          "map_ar",
          "map_ar",
          "map_ar",
          "map_ar",
          "map_ar",
          "map_ar",
          "map_ar",
          "map_ar",
          "map_ar",
          "map_ar",
          "map_ar",
          "map_ar",
          "map_ar",
          "map_ar",
          "map_ar",
          "map_ar",
          "map_ar",
          "map_ar",
          "map_ar",
          "map_ar",
          "map_ar",
          "map_ar",
          "map_ar",
          "map_ar",
          "map_ar",
          "map_ar",
          "map_ar",
          "map_ar",
          "map_ar",
          "map_ar",
          "map_ar",
          "map_ar",
          "map_ar",
          "map_ar",
          "map_ar",
          "map_ar",
          "map_ar",
          "map_ar",
          "map_ar",
          "map_ar",
          "map_ar",
          "map_ar",
          "map_ar",
          "map_ar",
          "map_ar",
          "map_ar",
          "map_ar",
          "map_ar",
          "map_ar",
          "map_ar",
          "map_ar",
          "map_ar",
          "map_ar",
          "map_ar",
          "map_ar",
          "map_ar",
          "map_ar",
          "map_ar",
          "map_ar",
          "map_ar",
          "map_ar",
          "map_ar",
          "map_ar",
          "map_ar",
          "map_ar",
          "map_ar",
          "map_ar",
          "map_ar",
          "map_ar",
          "map_ar",
          "map_ar",
          "map_ar",
          "map_ar",
          "map_ar",
          "map_ar",
          "map_ar",
          "map_ar",
          "map_ar",
          "map_ar",
          "map_ar",
          "map_ar",
          "map_ar",
          "map_ar",
          "map_ar",
          "map_ar",
          "map_ar",
          "map_ar",
          "map_ar",
          "map_ar",
          "map_ar",
          "map_ar",
          "map_ar",
          "map_ar",
          "map_ar",
          "map_ar",
          "map_ar",
          "map_ar",
          "map_ar",
          "map_ar",
          "map_ar",
          "map_ar",
          "map_ar",
          "map_ar",
          "map_ar",
          "map_ar",
          "map_ar",
          "map_ar",
          "map_ar",
          "map_ar",
          "map_ar",
          "map_ar",
          "map_ar",
          "map_ar",
          "map_ar",
          "map_ar",
          "map_ar",
          "map_ar",
          "map_ar",
          "map_ar",
          "map_ar",
          "map_ar",
          "map_ar",
          "map_ar",
          "map_ar",
          "map_ar",
          "map_ar",
          "map_ar",
          "map_ar",
          "map_ar",
          "map_ar",
          "map_ar",
          "map_ar",
          "map_ar",
          "map_ar",
          "map_ar",
          "map_ar",
          "map_ar",
          "map_ar",
          "map_ar",
          "map_ar",
          "map_ar",
          "map_ar",
          "map_ar",
          "map_ar",
          "map_ar",
          "map_ar",
          "map_ar",
          "map_ar",
          "map_ar",
          "map_ar",
          "map_ar",
          "map_ar",
          "map_ar",
          "map_ar",
          "map_ar",
          "map_ar",
          "map_ar",
          "map_ar",
          "map_ar",
          "map_ar",
          "map_ar",
          "map_ar",
          "map_ar",
          "map_ar",
          "map_ar",
          "map_ar",
          "map_ar",
          "map_ar",
          "map_ar",
          "map_ar",
          "map_ar",
          "map_ar",
          "map_ar",
          "map_ar",
          "map_ar",
          "map_ar",
          "map_ar",
          "map_ar",
          "map_ar",
          "map_ar",
          "map_ar",
          "map_ar",
          "map_ar",
          "map_ar",
          "map_ar",
          "map_ar",
          "map_ar",
          "map_ar",
          "map_ar",
          "map_ar",
          "map_ar",
          "map_ar",
          "map_ar",
          "map_ar",
          "map_ar",
          "map_ar",
          "map_ar",
          "map_ar",
          "map_ar",
          "map_ar",
          "map_ar",
          "map_ar",
          "map_ar",
          "map_ar",
          "map_ar",
          "map_ar",
          "map_ar",
          "map_ar",
          "map_ar",
          "map_ar",
          "map_ar",
          "map_ar",
          "map_ar",
          "map_ar",
          "map_ar",
          "map_ar",
          "map_ar",
          "map_ar",
          "map_ar",
          "map_ar",
          "map_ar",
          "map_ar",
          "map_ar",
          "map_ar",
          "map_ar",
          "map_ar",
          "map_ar",
          "map_ar",
          "map_ar",
          "map_ar",
          "map_ar",
          "map_ar",
          "map_ar",
          "map_ar",
          "map_ar",
          "map_ar",
          "map_ar",
          "map_ar",
          "map_ar",
          "map_ar",
          "map_ar",
          "map_ar",
          "map_ar",
          "map_ar",
          "map_ar",
          "map_ar",
          "map_ar",
          "map_ar",
          "map_ar",
          "map_ar",
          "map_ar",
          "map_ar",
          "map_ar",
          "map_ar",
          "map_ar",
          "map_ar",
          "map_ar",
          "map_ar",
          "map_ar",
          "map_ar",
          "map_ar",
          "map_ar",
          "map_ar",
          "map_ar",
          "map_ar",
          "map_ar",
          "map_ar",
          "map_ar",
          "map_ar",
          "map_ar",
          "map_ar",
          "map_ar",
          "map_ar",
          "map_ar",
          "map_ar",
          "map_ar",
          "map_ar",
          "map_ar",
          "map_ar",
          "map_ar",
          "map_ar",
          "map_ar",
          "map_ar",
          "map_ar",
          "map_ar",
          "map_ar",
          "map_ar",
          "map_ar",
          "map_ar",
          "map_ar",
          "map_ar",
          "map_ar",
          "map_ar",
          "map_ar",
          "map_ar",
          "map_ar",
          "map_ar",
          "map_ar",
          "map_ar",
          "map_ar",
          "map_ar",
          "map_ar",
          "map_ar",
          "map_ar",
          "map_ar",
          "map_ar",
          "map_ar",
          "map_ar",
          "map_ar",
          "map_ar",
          "map_ar",
          "map_ar",
          "map_ar",
          "map_ar",
          "map_ar",
          "map_ar",
          "map_ar",
          "map_ar",
          "map_ar",
          "map_ar",
          "map_ar",
          "map_ar",
          "map_ar",
          "map_ar",
          "map_ar",
          "map_ar",
          "map_ar",
          "map_ar",
          "map_ar",
          "map_ar",
          "map_ar",
          "map_ar",
          "map_ar",
          "map_ar",
          "map_ar",
          "map_ar",
          "map_ar",
          "map_ar",
          "map_ar",
          "map_ar",
          "map_ar",
          "map_ar",
          "map_ar",
          "map_ar",
          "map_ar",
          "map_ar",
          "map_ar",
          "map_ar",
          "map_ar",
          "map_ar",
          "map_ar",
          "map_ar",
          "map_ar",
          "map_ar",
          "map_ar",
          "map_ar",
          "map_ar",
          "map_ar",
          "map_ar",
          "map_ar",
          "map_ar",
          "map_ar",
          "map_ar",
          "map_ar",
          "map_ar",
          "map_ar"
         ]
        },
        {
         "base": [
          303.0195,
          306.169,
          306.469,
          306.668,
          308.32800000000003,
          308.528,
          309.708,
          310.88800000000003,
          311.367,
          312.3755,
          312.527,
          313.337,
          314.447,
          630.692,
          631.0519999999999,
          631.952,
          632.391,
          633.3109999999999
         ],
         "marker": {
          "color": "rgb(255, 237, 111)"
         },
         "name": "old_map",
         "orientation": "h",
         "showlegend": false,
         "type": "bar",
         "x": [
          3.119,
          0.2,
          0.18,
          1.64,
          0.18,
          1.16,
          1.16,
          0.32,
          0.9,
          0.14,
          0.7,
          0.5,
          1.06,
          0.26,
          0.8,
          0.4,
          0.76,
          0.14
         ],
         "y": [
          "old_map",
          "old_map",
          "old_map",
          "old_map",
          "old_map",
          "old_map",
          "old_map",
          "old_map",
          "old_map",
          "old_map",
          "old_map",
          "old_map",
          "old_map",
          "old_map",
          "old_map",
          "old_map",
          "old_map",
          "old_map"
         ]
        },
        {
         "base": [
          100.75699999999999,
          128.33100000000002,
          143.707,
          145.986,
          184.757,
          197.55400000000003,
          319.926,
          321.40500000000003,
          321.955,
          365.735,
          366.574,
          369.574,
          369.774,
          370.074,
          370.61400000000003,
          370.754,
          372.793,
          516.079,
          566.3069999999999
         ],
         "marker": {
          "color": "rgb(203, 203, 203)"
         },
         "name": "others",
         "orientation": "h",
         "showlegend": false,
         "type": "bar",
         "x": [
          0.76,
          0.1,
          0.2,
          0.58,
          0.86,
          0.24,
          0.6,
          0.08,
          1.16,
          0.12,
          0.1,
          0.12,
          0.12,
          0.1,
          0.12,
          0.16,
          0.44,
          0.08,
          0.24
         ],
         "y": [
          "others",
          "others",
          "others",
          "others",
          "others",
          "others",
          "others",
          "others",
          "others",
          "others",
          "others",
          "others",
          "others",
          "others",
          "others",
          "others",
          "others",
          "others",
          "others"
         ]
        },
        {
         "base": [
          0,
          1.2800000000000011,
          21.795,
          22.554999999999993,
          27.634,
          67.28499999999998,
          71.134,
          77.14199999999998,
          82.961,
          84.021,
          90.55899999999998,
          97.57799999999999,
          108.075,
          112.634,
          112.93399999999998,
          113.574,
          125.01099999999998,
          131.11,
          135.18900000000002,
          139.228,
          140.58800000000002,
          141.387,
          181.868,
          186.317,
          233.82600000000002,
          247.46300000000002,
          253.541,
          313.867,
          317.266,
          341.95,
          357.577,
          365.875,
          367.694,
          367.994,
          368.234,
          368.694,
          371.773,
          373.293,
          378.41200000000003,
          378.812,
          382.6265,
          386.45,
          386.93,
          392.748,
          396.867,
          397.70700000000005,
          412.16400000000004,
          434.25899999999996,
          442.69700000000006,
          486.58599999999996,
          489.545,
          489.965,
          490.085,
          501.20300000000003,
          501.56199999999995,
          507.98100000000005,
          508.58099999999996,
          508.781,
          509.021,
          509.92,
          512.42,
          519.2779999999999,
          519.818,
          525.6569999999999,
          525.8969999999999,
          529.156,
          531.255,
          532.1149999999999,
          532.655,
          532.9929999999999,
          533.3149999999999,
          534.275,
          534.375,
          534.775,
          536.0139999999999,
          536.174,
          536.554,
          537.454,
          537.834,
          539.4929999999999,
          539.733,
          540.5329999999999,
          541.4129999999999,
          542.333,
          543.0975,
          543.713,
          545.832,
          546.2919999999999,
          546.3919999999999,
          546.832,
          547.7919999999999,
          548.132,
          548.252,
          549.391,
          551.1909999999999,
          552.88,
          553.53,
          557.569,
          558.429,
          558.829,
          559.769,
          559.8889999999999,
          560.1289999999999,
          560.9079999999999,
          561.7679999999999,
          562.308,
          562.708,
          563.1379999999999,
          563.8879999999999,
          564.068,
          564.218,
          564.448,
          564.947,
          565.747,
          566.1469999999999,
          567.007,
          567.707,
          568.487,
          568.887,
          568.987,
          569.4069999999999,
          575.645,
          575.925,
          578.184,
          580.544,
          581.404,
          581.684,
          582.983,
          583.6229999999999,
          584.0029999999999,
          584.563,
          584.683,
          584.8829999999999,
          585.183,
          585.583,
          587.5619999999999,
          588.4019999999999,
          588.5619999999999,
          589.1819999999999,
          589.2819999999999,
          589.4019999999999,
          590.002,
          590.1419999999999,
          590.521,
          592.0809999999999,
          592.8209999999999,
          594.251,
          595.1999999999999,
          595.38,
          597.02,
          598.16,
          599.8389999999999,
          600.039,
          600.7589999999999,
          601.799,
          603.188,
          603.558,
          604.458,
          606.5379999999999,
          633.871
         ],
         "marker": {
          "color": "rgb(204, 235, 197)"
         },
         "name": "surroundings",
         "orientation": "h",
         "showlegend": false,
         "type": "bar",
         "x": [
          0.62,
          0.08,
          0.18,
          0.08,
          0.08,
          0.9,
          0.72,
          0.34,
          0.18,
          0.36,
          0.28,
          0.72,
          0.18,
          0.08,
          0.26,
          0.2,
          0.16,
          0.26,
          0.4,
          0.26,
          0.2,
          0.1,
          0.32,
          0.56,
          0.76,
          0.44,
          1.7,
          0.54,
          0.14,
          1.2,
          0.08,
          0.5,
          0.28,
          0.22,
          0.2,
          0.16,
          0.28,
          0.14,
          0.18,
          0.2,
          0.1,
          0.38,
          0.48,
          0.8,
          0.1,
          0.18,
          0.08,
          0.34,
          0.14,
          0.4,
          0.22,
          0.1,
          0.48,
          0.34,
          0.08,
          0.52,
          0.12,
          0.22,
          0.12,
          0.32,
          0.6,
          0.42,
          0.12,
          0.2,
          0.16,
          0.16,
          0.38,
          0.08,
          0.12,
          0.3,
          0.22,
          0.08,
          0.36,
          0.2,
          0.08,
          0.1,
          0.84,
          0.34,
          0.1,
          0.08,
          0.2,
          0.2,
          0.18,
          0.14,
          0.14,
          0.18,
          0.3,
          0.08,
          0.14,
          0.08,
          0.08,
          0.08,
          0.08,
          0.26,
          0.18,
          0.6,
          0.24,
          0.1,
          0.1,
          0.68,
          0.08,
          0.2,
          0.18,
          0.8,
          0.24,
          0.34,
          0.42,
          0.38,
          0.14,
          0.14,
          0.14,
          0.48,
          0.52,
          0.34,
          0.14,
          0.18,
          0.24,
          0.38,
          0.08,
          0.3,
          0.16,
          0.18,
          0.26,
          0.96,
          0.1,
          0.16,
          0.16,
          0.14,
          0.2,
          0.08,
          0.1,
          0.14,
          0.14,
          0.36,
          0.16,
          0.08,
          0.12,
          0.54,
          0.08,
          0.1,
          0.16,
          0.12,
          0.18,
          0.24,
          0.4,
          0.34,
          0.3,
          0.16,
          0.22,
          0.3,
          0.74,
          0.18,
          0.62,
          0.3,
          0.86,
          0.22,
          0.62,
          0.1,
          3,
          0.52
         ],
         "y": [
          "surroundings",
          "surroundings",
          "surroundings",
          "surroundings",
          "surroundings",
          "surroundings",
          "surroundings",
          "surroundings",
          "surroundings",
          "surroundings",
          "surroundings",
          "surroundings",
          "surroundings",
          "surroundings",
          "surroundings",
          "surroundings",
          "surroundings",
          "surroundings",
          "surroundings",
          "surroundings",
          "surroundings",
          "surroundings",
          "surroundings",
          "surroundings",
          "surroundings",
          "surroundings",
          "surroundings",
          "surroundings",
          "surroundings",
          "surroundings",
          "surroundings",
          "surroundings",
          "surroundings",
          "surroundings",
          "surroundings",
          "surroundings",
          "surroundings",
          "surroundings",
          "surroundings",
          "surroundings",
          "surroundings",
          "surroundings",
          "surroundings",
          "surroundings",
          "surroundings",
          "surroundings",
          "surroundings",
          "surroundings",
          "surroundings",
          "surroundings",
          "surroundings",
          "surroundings",
          "surroundings",
          "surroundings",
          "surroundings",
          "surroundings",
          "surroundings",
          "surroundings",
          "surroundings",
          "surroundings",
          "surroundings",
          "surroundings",
          "surroundings",
          "surroundings",
          "surroundings",
          "surroundings",
          "surroundings",
          "surroundings",
          "surroundings",
          "surroundings",
          "surroundings",
          "surroundings",
          "surroundings",
          "surroundings",
          "surroundings",
          "surroundings",
          "surroundings",
          "surroundings",
          "surroundings",
          "surroundings",
          "surroundings",
          "surroundings",
          "surroundings",
          "surroundings",
          "surroundings",
          "surroundings",
          "surroundings",
          "surroundings",
          "surroundings",
          "surroundings",
          "surroundings",
          "surroundings",
          "surroundings",
          "surroundings",
          "surroundings",
          "surroundings",
          "surroundings",
          "surroundings",
          "surroundings",
          "surroundings",
          "surroundings",
          "surroundings",
          "surroundings",
          "surroundings",
          "surroundings",
          "surroundings",
          "surroundings",
          "surroundings",
          "surroundings",
          "surroundings",
          "surroundings",
          "surroundings",
          "surroundings",
          "surroundings",
          "surroundings",
          "surroundings",
          "surroundings",
          "surroundings",
          "surroundings",
          "surroundings",
          "surroundings",
          "surroundings",
          "surroundings",
          "surroundings",
          "surroundings",
          "surroundings",
          "surroundings",
          "surroundings",
          "surroundings",
          "surroundings",
          "surroundings",
          "surroundings",
          "surroundings",
          "surroundings",
          "surroundings",
          "surroundings",
          "surroundings",
          "surroundings",
          "surroundings",
          "surroundings",
          "surroundings",
          "surroundings",
          "surroundings",
          "surroundings",
          "surroundings",
          "surroundings",
          "surroundings",
          "surroundings",
          "surroundings",
          "surroundings",
          "surroundings",
          "surroundings",
          "surroundings",
          "surroundings",
          "surroundings",
          "surroundings",
          "surroundings",
          "surroundings",
          "surroundings",
          "surroundings"
         ]
        },
        {
         "base": [
          189.476,
          195.95499999999998,
          196.914,
          197.274,
          197.834,
          198.034,
          198.154,
          199.93400000000003,
          205.772,
          206.452,
          206.872,
          207.43200000000002,
          207.952,
          208.392,
          209.072,
          209.372,
          210.37099999999998,
          211.76100000000002,
          212.25100000000003,
          212.50100000000003,
          213.351,
          213.89,
          214.21000000000004,
          214.71000000000004,
          215.07,
          215.31,
          215.57,
          216.05,
          216.43,
          217.19,
          217.69,
          217.80900000000003,
          218.72899999999998,
          219.30900000000003,
          219.98900000000003,
          220.24900000000002,
          220.80900000000003,
          221.089,
          221.329,
          221.56900000000002,
          221.789,
          222.159,
          222.66899999999998,
          223.06799999999998,
          223.188,
          223.50799999999998,
          224.048,
          224.70800000000003,
          225.108,
          225.5485,
          227.98700000000002,
          228.3275,
          230.54700000000003,
          230.88600000000002,
          231.426,
          231.786,
          232.226,
          232.726,
          233.176,
          233.426,
          235.70499999999998,
          235.885,
          236.20499999999998,
          237.28500000000003,
          237.625,
          237.945,
          238.185,
          238.885,
          239.065,
          239.324,
          239.704,
          239.904,
          240.264,
          240.44400000000002,
          240.824,
          241.024,
          241.24400000000003,
          241.68400000000003,
          242.17400000000004,
          242.324,
          242.724,
          243.11400000000003,
          243.363,
          243.663,
          244.183,
          244.52300000000002,
          245.14300000000003,
          245.563,
          245.82300000000004,
          246.28300000000002,
          246.723,
          247.043,
          247.962,
          248.582,
          248.80200000000002,
          249.022,
          249.262,
          249.66200000000003,
          249.92200000000003,
          250.062,
          250.6125,
          252.76100000000002,
          253.13100000000003,
          255.301,
          255.68,
          256.18,
          256.36,
          457.993,
          459.17199999999997,
          460.47200000000004,
          461.252,
          461.372,
          461.95200000000006,
          462.882,
          463.09200000000004,
          463.59100000000007,
          463.801,
          466.791,
          467.07099999999997,
          467.75000000000006,
          468.07,
          468.31,
          469.15000000000003,
          469.57,
          469.75000000000006,
          469.97049999999996,
          472.17900000000003,
          473.38899999999995,
          473.65900000000005,
          475.309,
          475.50899999999996,
          476.12899999999996,
          476.628,
          476.90799999999996,
          477.128,
          478.64799999999997,
          479.108,
          479.468,
          479.608,
          480.248,
          480.58700000000005,
          481.027,
          482.71700000000004,
          483.007
         ],
         "marker": {
          "color": "rgb(252, 205, 229)"
         },
         "name": "take_note",
         "orientation": "h",
         "showlegend": false,
         "type": "bar",
         "x": [
          0.58,
          0.92,
          0.34,
          0.16,
          0.18,
          0.08,
          1.68,
          0.42,
          0.66,
          0.4,
          0.54,
          0.5,
          0.42,
          0.58,
          0.28,
          0.94,
          1.36,
          0.48,
          0.2,
          0.8,
          0.5,
          0.3,
          0.46,
          0.3,
          0.22,
          0.22,
          0.44,
          0.32,
          0.74,
          0.48,
          0.08,
          0.88,
          0.54,
          0.6,
          0.2,
          0.52,
          0.22,
          0.22,
          0.2,
          0.2,
          0.34,
          0.44,
          0.36,
          0.1,
          0.28,
          0.48,
          0.52,
          0.3,
          0.38,
          2.379,
          0.28,
          2.159,
          0.28,
          0.5,
          0.32,
          0.38,
          0.4,
          0.42,
          0.2,
          0.34,
          0.16,
          0.26,
          1,
          0.28,
          0.3,
          0.2,
          0.66,
          0.14,
          0.24,
          0.36,
          0.18,
          0.3,
          0.16,
          0.34,
          0.16,
          0.18,
          0.38,
          0.46,
          0.08,
          0.34,
          0.36,
          0.18,
          0.24,
          0.46,
          0.26,
          0.52,
          0.28,
          0.24,
          0.44,
          0.42,
          0.3,
          0.14,
          0.56,
          0.12,
          0.08,
          0.2,
          0.36,
          0.24,
          0.1,
          0.52,
          2.119,
          0.36,
          0.36,
          0.3,
          0.46,
          0.16,
          0.66,
          0.78,
          1.28,
          0.76,
          0.08,
          0.52,
          0.92,
          0.18,
          0.48,
          0.2,
          0.74,
          0.24,
          0.62,
          0.2,
          0.1,
          0.74,
          0.3,
          0.12,
          0.2,
          2.039,
          1.2,
          0.26,
          1.62,
          0.16,
          0.58,
          0.38,
          0.24,
          0.2,
          1.44,
          0.42,
          0.32,
          0.1,
          0.62,
          0.3,
          0.36,
          1.6,
          0.28,
          0.16
         ],
         "y": [
          "take_note",
          "take_note",
          "take_note",
          "take_note",
          "take_note",
          "take_note",
          "take_note",
          "take_note",
          "take_note",
          "take_note",
          "take_note",
          "take_note",
          "take_note",
          "take_note",
          "take_note",
          "take_note",
          "take_note",
          "take_note",
          "take_note",
          "take_note",
          "take_note",
          "take_note",
          "take_note",
          "take_note",
          "take_note",
          "take_note",
          "take_note",
          "take_note",
          "take_note",
          "take_note",
          "take_note",
          "take_note",
          "take_note",
          "take_note",
          "take_note",
          "take_note",
          "take_note",
          "take_note",
          "take_note",
          "take_note",
          "take_note",
          "take_note",
          "take_note",
          "take_note",
          "take_note",
          "take_note",
          "take_note",
          "take_note",
          "take_note",
          "take_note",
          "take_note",
          "take_note",
          "take_note",
          "take_note",
          "take_note",
          "take_note",
          "take_note",
          "take_note",
          "take_note",
          "take_note",
          "take_note",
          "take_note",
          "take_note",
          "take_note",
          "take_note",
          "take_note",
          "take_note",
          "take_note",
          "take_note",
          "take_note",
          "take_note",
          "take_note",
          "take_note",
          "take_note",
          "take_note",
          "take_note",
          "take_note",
          "take_note",
          "take_note",
          "take_note",
          "take_note",
          "take_note",
          "take_note",
          "take_note",
          "take_note",
          "take_note",
          "take_note",
          "take_note",
          "take_note",
          "take_note",
          "take_note",
          "take_note",
          "take_note",
          "take_note",
          "take_note",
          "take_note",
          "take_note",
          "take_note",
          "take_note",
          "take_note",
          "take_note",
          "take_note",
          "take_note",
          "take_note",
          "take_note",
          "take_note",
          "take_note",
          "take_note",
          "take_note",
          "take_note",
          "take_note",
          "take_note",
          "take_note",
          "take_note",
          "take_note",
          "take_note",
          "take_note",
          "take_note",
          "take_note",
          "take_note",
          "take_note",
          "take_note",
          "take_note",
          "take_note",
          "take_note",
          "take_note",
          "take_note",
          "take_note",
          "take_note",
          "take_note",
          "take_note",
          "take_note",
          "take_note",
          "take_note",
          "take_note",
          "take_note",
          "take_note",
          "take_note",
          "take_note",
          "take_note",
          "take_note",
          "take_note",
          "take_note",
          "take_note"
         ]
        },
        {
         "base": [
          98.937,
          192.8655,
          200.394,
          201.09300000000002,
          201.40300000000002,
          202.413,
          202.78300000000002,
          203.15300000000002,
          203.39300000000003,
          203.793,
          204.15300000000002,
          204.55200000000002,
          205.17200000000003,
          205.43200000000002,
          257.04,
          262.669,
          264.29900000000004,
          264.819,
          265.298,
          276.37600000000003,
          277.495,
          394.56800000000004,
          464.61100000000005,
          465.771,
          483.19700000000006,
          487.00600000000003,
          487.926,
          488.186,
          488.386,
          494.64400000000006,
          496.584,
          496.78299999999996,
          497.503,
          498.02299999999997,
          510.50000000000006,
          513.05,
          571.1659999999999,
          637.8499999999999
         ],
         "marker": {
          "color": "rgb(190, 186, 218)"
         },
         "name": "view_note",
         "orientation": "h",
         "showlegend": false,
         "type": "bar",
         "x": [
          0.22,
          2.979,
          0.66,
          0.26,
          0.98,
          0.34,
          0.36,
          0.22,
          0.36,
          0.3,
          0.38,
          0.56,
          0.22,
          0.32,
          0.56,
          1.48,
          0.5,
          0.46,
          0.66,
          1.1,
          0.44,
          0.32,
          1.1,
          1,
          1.34,
          0.8,
          0.18,
          0.1,
          0.62,
          1.5,
          0.08,
          0.7,
          0.44,
          0.28,
          1.9,
          0.76,
          0.12,
          0.72
         ],
         "y": [
          "view_note",
          "view_note",
          "view_note",
          "view_note",
          "view_note",
          "view_note",
          "view_note",
          "view_note",
          "view_note",
          "view_note",
          "view_note",
          "view_note",
          "view_note",
          "view_note",
          "view_note",
          "view_note",
          "view_note",
          "view_note",
          "view_note",
          "view_note",
          "view_note",
          "view_note",
          "view_note",
          "view_note",
          "view_note",
          "view_note",
          "view_note",
          "view_note",
          "view_note",
          "view_note",
          "view_note",
          "view_note",
          "view_note",
          "view_note",
          "view_note",
          "view_note",
          "view_note",
          "view_note"
         ]
        }
       ],
       "layout": {
        "barmode": "stack",
        "plot_bgcolor": "rgb(250, 250, 250)",
        "template": {
         "data": {
          "bar": [
           {
            "error_x": {
             "color": "#2a3f5f"
            },
            "error_y": {
             "color": "#2a3f5f"
            },
            "marker": {
             "line": {
              "color": "#E5ECF6",
              "width": 0.5
             }
            },
            "type": "bar"
           }
          ],
          "barpolar": [
           {
            "marker": {
             "line": {
              "color": "#E5ECF6",
              "width": 0.5
             }
            },
            "type": "barpolar"
           }
          ],
          "carpet": [
           {
            "aaxis": {
             "endlinecolor": "#2a3f5f",
             "gridcolor": "white",
             "linecolor": "white",
             "minorgridcolor": "white",
             "startlinecolor": "#2a3f5f"
            },
            "baxis": {
             "endlinecolor": "#2a3f5f",
             "gridcolor": "white",
             "linecolor": "white",
             "minorgridcolor": "white",
             "startlinecolor": "#2a3f5f"
            },
            "type": "carpet"
           }
          ],
          "choropleth": [
           {
            "colorbar": {
             "outlinewidth": 0,
             "ticks": ""
            },
            "type": "choropleth"
           }
          ],
          "contour": [
           {
            "colorbar": {
             "outlinewidth": 0,
             "ticks": ""
            },
            "colorscale": [
             [
              0,
              "#0d0887"
             ],
             [
              0.1111111111111111,
              "#46039f"
             ],
             [
              0.2222222222222222,
              "#7201a8"
             ],
             [
              0.3333333333333333,
              "#9c179e"
             ],
             [
              0.4444444444444444,
              "#bd3786"
             ],
             [
              0.5555555555555556,
              "#d8576b"
             ],
             [
              0.6666666666666666,
              "#ed7953"
             ],
             [
              0.7777777777777778,
              "#fb9f3a"
             ],
             [
              0.8888888888888888,
              "#fdca26"
             ],
             [
              1,
              "#f0f921"
             ]
            ],
            "type": "contour"
           }
          ],
          "contourcarpet": [
           {
            "colorbar": {
             "outlinewidth": 0,
             "ticks": ""
            },
            "type": "contourcarpet"
           }
          ],
          "heatmap": [
           {
            "colorbar": {
             "outlinewidth": 0,
             "ticks": ""
            },
            "colorscale": [
             [
              0,
              "#0d0887"
             ],
             [
              0.1111111111111111,
              "#46039f"
             ],
             [
              0.2222222222222222,
              "#7201a8"
             ],
             [
              0.3333333333333333,
              "#9c179e"
             ],
             [
              0.4444444444444444,
              "#bd3786"
             ],
             [
              0.5555555555555556,
              "#d8576b"
             ],
             [
              0.6666666666666666,
              "#ed7953"
             ],
             [
              0.7777777777777778,
              "#fb9f3a"
             ],
             [
              0.8888888888888888,
              "#fdca26"
             ],
             [
              1,
              "#f0f921"
             ]
            ],
            "type": "heatmap"
           }
          ],
          "heatmapgl": [
           {
            "colorbar": {
             "outlinewidth": 0,
             "ticks": ""
            },
            "colorscale": [
             [
              0,
              "#0d0887"
             ],
             [
              0.1111111111111111,
              "#46039f"
             ],
             [
              0.2222222222222222,
              "#7201a8"
             ],
             [
              0.3333333333333333,
              "#9c179e"
             ],
             [
              0.4444444444444444,
              "#bd3786"
             ],
             [
              0.5555555555555556,
              "#d8576b"
             ],
             [
              0.6666666666666666,
              "#ed7953"
             ],
             [
              0.7777777777777778,
              "#fb9f3a"
             ],
             [
              0.8888888888888888,
              "#fdca26"
             ],
             [
              1,
              "#f0f921"
             ]
            ],
            "type": "heatmapgl"
           }
          ],
          "histogram": [
           {
            "marker": {
             "colorbar": {
              "outlinewidth": 0,
              "ticks": ""
             }
            },
            "type": "histogram"
           }
          ],
          "histogram2d": [
           {
            "colorbar": {
             "outlinewidth": 0,
             "ticks": ""
            },
            "colorscale": [
             [
              0,
              "#0d0887"
             ],
             [
              0.1111111111111111,
              "#46039f"
             ],
             [
              0.2222222222222222,
              "#7201a8"
             ],
             [
              0.3333333333333333,
              "#9c179e"
             ],
             [
              0.4444444444444444,
              "#bd3786"
             ],
             [
              0.5555555555555556,
              "#d8576b"
             ],
             [
              0.6666666666666666,
              "#ed7953"
             ],
             [
              0.7777777777777778,
              "#fb9f3a"
             ],
             [
              0.8888888888888888,
              "#fdca26"
             ],
             [
              1,
              "#f0f921"
             ]
            ],
            "type": "histogram2d"
           }
          ],
          "histogram2dcontour": [
           {
            "colorbar": {
             "outlinewidth": 0,
             "ticks": ""
            },
            "colorscale": [
             [
              0,
              "#0d0887"
             ],
             [
              0.1111111111111111,
              "#46039f"
             ],
             [
              0.2222222222222222,
              "#7201a8"
             ],
             [
              0.3333333333333333,
              "#9c179e"
             ],
             [
              0.4444444444444444,
              "#bd3786"
             ],
             [
              0.5555555555555556,
              "#d8576b"
             ],
             [
              0.6666666666666666,
              "#ed7953"
             ],
             [
              0.7777777777777778,
              "#fb9f3a"
             ],
             [
              0.8888888888888888,
              "#fdca26"
             ],
             [
              1,
              "#f0f921"
             ]
            ],
            "type": "histogram2dcontour"
           }
          ],
          "mesh3d": [
           {
            "colorbar": {
             "outlinewidth": 0,
             "ticks": ""
            },
            "type": "mesh3d"
           }
          ],
          "parcoords": [
           {
            "line": {
             "colorbar": {
              "outlinewidth": 0,
              "ticks": ""
             }
            },
            "type": "parcoords"
           }
          ],
          "pie": [
           {
            "automargin": true,
            "type": "pie"
           }
          ],
          "scatter": [
           {
            "marker": {
             "colorbar": {
              "outlinewidth": 0,
              "ticks": ""
             }
            },
            "type": "scatter"
           }
          ],
          "scatter3d": [
           {
            "line": {
             "colorbar": {
              "outlinewidth": 0,
              "ticks": ""
             }
            },
            "marker": {
             "colorbar": {
              "outlinewidth": 0,
              "ticks": ""
             }
            },
            "type": "scatter3d"
           }
          ],
          "scattercarpet": [
           {
            "marker": {
             "colorbar": {
              "outlinewidth": 0,
              "ticks": ""
             }
            },
            "type": "scattercarpet"
           }
          ],
          "scattergeo": [
           {
            "marker": {
             "colorbar": {
              "outlinewidth": 0,
              "ticks": ""
             }
            },
            "type": "scattergeo"
           }
          ],
          "scattergl": [
           {
            "marker": {
             "colorbar": {
              "outlinewidth": 0,
              "ticks": ""
             }
            },
            "type": "scattergl"
           }
          ],
          "scattermapbox": [
           {
            "marker": {
             "colorbar": {
              "outlinewidth": 0,
              "ticks": ""
             }
            },
            "type": "scattermapbox"
           }
          ],
          "scatterpolar": [
           {
            "marker": {
             "colorbar": {
              "outlinewidth": 0,
              "ticks": ""
             }
            },
            "type": "scatterpolar"
           }
          ],
          "scatterpolargl": [
           {
            "marker": {
             "colorbar": {
              "outlinewidth": 0,
              "ticks": ""
             }
            },
            "type": "scatterpolargl"
           }
          ],
          "scatterternary": [
           {
            "marker": {
             "colorbar": {
              "outlinewidth": 0,
              "ticks": ""
             }
            },
            "type": "scatterternary"
           }
          ],
          "surface": [
           {
            "colorbar": {
             "outlinewidth": 0,
             "ticks": ""
            },
            "colorscale": [
             [
              0,
              "#0d0887"
             ],
             [
              0.1111111111111111,
              "#46039f"
             ],
             [
              0.2222222222222222,
              "#7201a8"
             ],
             [
              0.3333333333333333,
              "#9c179e"
             ],
             [
              0.4444444444444444,
              "#bd3786"
             ],
             [
              0.5555555555555556,
              "#d8576b"
             ],
             [
              0.6666666666666666,
              "#ed7953"
             ],
             [
              0.7777777777777778,
              "#fb9f3a"
             ],
             [
              0.8888888888888888,
              "#fdca26"
             ],
             [
              1,
              "#f0f921"
             ]
            ],
            "type": "surface"
           }
          ],
          "table": [
           {
            "cells": {
             "fill": {
              "color": "#EBF0F8"
             },
             "line": {
              "color": "white"
             }
            },
            "header": {
             "fill": {
              "color": "#C8D4E3"
             },
             "line": {
              "color": "white"
             }
            },
            "type": "table"
           }
          ]
         },
         "layout": {
          "annotationdefaults": {
           "arrowcolor": "#2a3f5f",
           "arrowhead": 0,
           "arrowwidth": 1
          },
          "coloraxis": {
           "colorbar": {
            "outlinewidth": 0,
            "ticks": ""
           }
          },
          "colorscale": {
           "diverging": [
            [
             0,
             "#8e0152"
            ],
            [
             0.1,
             "#c51b7d"
            ],
            [
             0.2,
             "#de77ae"
            ],
            [
             0.3,
             "#f1b6da"
            ],
            [
             0.4,
             "#fde0ef"
            ],
            [
             0.5,
             "#f7f7f7"
            ],
            [
             0.6,
             "#e6f5d0"
            ],
            [
             0.7,
             "#b8e186"
            ],
            [
             0.8,
             "#7fbc41"
            ],
            [
             0.9,
             "#4d9221"
            ],
            [
             1,
             "#276419"
            ]
           ],
           "sequential": [
            [
             0,
             "#0d0887"
            ],
            [
             0.1111111111111111,
             "#46039f"
            ],
            [
             0.2222222222222222,
             "#7201a8"
            ],
            [
             0.3333333333333333,
             "#9c179e"
            ],
            [
             0.4444444444444444,
             "#bd3786"
            ],
            [
             0.5555555555555556,
             "#d8576b"
            ],
            [
             0.6666666666666666,
             "#ed7953"
            ],
            [
             0.7777777777777778,
             "#fb9f3a"
            ],
            [
             0.8888888888888888,
             "#fdca26"
            ],
            [
             1,
             "#f0f921"
            ]
           ],
           "sequentialminus": [
            [
             0,
             "#0d0887"
            ],
            [
             0.1111111111111111,
             "#46039f"
            ],
            [
             0.2222222222222222,
             "#7201a8"
            ],
            [
             0.3333333333333333,
             "#9c179e"
            ],
            [
             0.4444444444444444,
             "#bd3786"
            ],
            [
             0.5555555555555556,
             "#d8576b"
            ],
            [
             0.6666666666666666,
             "#ed7953"
            ],
            [
             0.7777777777777778,
             "#fb9f3a"
            ],
            [
             0.8888888888888888,
             "#fdca26"
            ],
            [
             1,
             "#f0f921"
            ]
           ]
          },
          "colorway": [
           "#636efa",
           "#EF553B",
           "#00cc96",
           "#ab63fa",
           "#FFA15A",
           "#19d3f3",
           "#FF6692",
           "#B6E880",
           "#FF97FF",
           "#FECB52"
          ],
          "font": {
           "color": "#2a3f5f"
          },
          "geo": {
           "bgcolor": "white",
           "lakecolor": "white",
           "landcolor": "#E5ECF6",
           "showlakes": true,
           "showland": true,
           "subunitcolor": "white"
          },
          "hoverlabel": {
           "align": "left"
          },
          "hovermode": "closest",
          "mapbox": {
           "style": "light"
          },
          "paper_bgcolor": "white",
          "plot_bgcolor": "#E5ECF6",
          "polar": {
           "angularaxis": {
            "gridcolor": "white",
            "linecolor": "white",
            "ticks": ""
           },
           "bgcolor": "#E5ECF6",
           "radialaxis": {
            "gridcolor": "white",
            "linecolor": "white",
            "ticks": ""
           }
          },
          "scene": {
           "xaxis": {
            "backgroundcolor": "#E5ECF6",
            "gridcolor": "white",
            "gridwidth": 2,
            "linecolor": "white",
            "showbackground": true,
            "ticks": "",
            "zerolinecolor": "white"
           },
           "yaxis": {
            "backgroundcolor": "#E5ECF6",
            "gridcolor": "white",
            "gridwidth": 2,
            "linecolor": "white",
            "showbackground": true,
            "ticks": "",
            "zerolinecolor": "white"
           },
           "zaxis": {
            "backgroundcolor": "#E5ECF6",
            "gridcolor": "white",
            "gridwidth": 2,
            "linecolor": "white",
            "showbackground": true,
            "ticks": "",
            "zerolinecolor": "white"
           }
          },
          "shapedefaults": {
           "line": {
            "color": "#2a3f5f"
           }
          },
          "ternary": {
           "aaxis": {
            "gridcolor": "white",
            "linecolor": "white",
            "ticks": ""
           },
           "baxis": {
            "gridcolor": "white",
            "linecolor": "white",
            "ticks": ""
           },
           "bgcolor": "#E5ECF6",
           "caxis": {
            "gridcolor": "white",
            "linecolor": "white",
            "ticks": ""
           }
          },
          "title": {
           "x": 0.05
          },
          "xaxis": {
           "automargin": true,
           "gridcolor": "white",
           "linecolor": "white",
           "ticks": "",
           "title": {
            "standoff": 15
           },
           "zerolinecolor": "white",
           "zerolinewidth": 2
          },
          "yaxis": {
           "automargin": true,
           "gridcolor": "white",
           "linecolor": "white",
           "ticks": "",
           "title": {
            "standoff": 15
           },
           "zerolinecolor": "white",
           "zerolinewidth": 2
          }
         }
        },
        "xaxis": {
         "automargin": true,
         "title": {
          "text": "time into section (sec)"
         }
        },
        "yaxis": {
         "automargin": true,
         "categoryarray": [
          "others",
          "surroundings",
          "building",
          "view_note",
          "take_note",
          "map_ar",
          "info"
         ],
         "categoryorder": "array"
        }
       }
      }
     },
     "metadata": {}
    }
   ],
   "source": [
    "df['start'] = (df['Recording timestamp'] - df['Gaze event duration']/2) / 1000\n",
    "df['start'] = df['start'] - df['start'].min()\n",
    "df['Gaze event duration'] = df['Gaze event duration'] / 1000\n",
    "fig = go.Figure(\n",
    "    layout = {\n",
    "        'barmode': 'stack',\n",
    "        'xaxis': {'automargin': True, 'title': {'text': 'time into section (sec)'}},\n",
    "        'yaxis': {'automargin': True,\n",
    "                  'categoryorder': 'array',\n",
    "                  'categoryarray': ['others', 'surroundings', 'building',\n",
    "                                    'view_note', 'take_note',\n",
    "                                    'map_ar', 'info']},\n",
    "        'plot_bgcolor': 'rgb(250, 250, 250)'}\n",
    ")\n",
    "for target, target_df in df.groupby('new_target'):\n",
    "    fig.add_bar(x=target_df['Gaze event duration'],\n",
    "                y=target_df['new_target'],\n",
    "                base=target_df.start,\n",
    "                orientation='h',\n",
    "                showlegend=False,\n",
    "                marker=dict(color=sequence_color_dict[target]),\n",
    "                name=target)\n",
    "fig.show()"
   ]
  }
 ],
 "metadata": {
  "language_info": {
   "codemirror_mode": {
    "name": "ipython",
    "version": 3
   },
   "file_extension": ".py",
   "mimetype": "text/x-python",
   "name": "python",
   "nbconvert_exporter": "python",
   "pygments_lexer": "ipython3",
   "version": "3.7.3-final"
  },
  "orig_nbformat": 2,
  "kernelspec": {
   "name": "python3",
   "display_name": "Python 3"
  }
 },
 "nbformat": 4,
 "nbformat_minor": 2
}